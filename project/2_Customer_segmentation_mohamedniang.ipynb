{
  "nbformat": 4,
  "nbformat_minor": 0,
  "metadata": {
    "colab": {
      "name": "2_Customer_segmentation_mohamedniang.ipynb",
      "provenance": [],
      "collapsed_sections": []
    },
    "kernelspec": {
      "name": "python3",
      "display_name": "Python 3"
    }
  },
  "cells": [
    {
      "cell_type": "markdown",
      "metadata": {
        "id": "xX1VYE4L-v71"
      },
      "source": [
        "# 2) Exploration\n",
        "\n",
        "As you can see in the description of the data, it contains 8 variables:\n",
        "\n",
        "**InvoiceNo**: Invoice number. Nominal, a 6-digit integral number uniquely assigned to each transaction. If this code starts with letter 'c', it indicates a cancellation.\n",
        "\n",
        "**StockCode**: Product (item) code. Nominal, a 5-digit integral number uniquely assigned to each distinct product.\n",
        "\n",
        "**Description**: Product (item) name. Nominal.\n",
        "\n",
        "**Quantity**: The quantities of each product (item) per transaction. Numeric.\n",
        "\n",
        "**InvoiceDate**: Invoice Date and time. Numeric, the day and time when each transaction was generated.\n",
        "\n",
        "**UnitPrice**: Unit price. Numeric, Product price per unit in sterling.\n",
        "\n",
        "**CustomerID**: Customer number. Nominal, a 5-digit integral number uniquely assigned to each customer.\n",
        "\n",
        "**Country**: Country name. Nominal, the name of the country where each customer resides."
      ]
    },
    {
      "cell_type": "code",
      "metadata": {
        "id": "4v5Zy0-u-0uk",
        "colab": {
          "base_uri": "https://localhost:8080/",
          "height": 300
        },
        "outputId": "9e384c7b-2501-4598-9cba-d370a5679070"
      },
      "source": [
        "import pandas as pd\n",
        "\n",
        "from google.colab import drive\n",
        "drive.mount('/content/drive')\n",
        "relative_path = '/content/drive/My Drive/Customer Segmentation/Data/'\n",
        "\n",
        "df_dropna = pd.read_csv(relative_path + 'data_dropna.csv', encoding='latin', dtype={'CustomerID': str}) \n",
        "df = pd.read_csv(relative_path + 'data.csv', encoding='latin', dtype={'CustomerID': str}) \n",
        "df_dropna.describe()"
      ],
      "execution_count": null,
      "outputs": [
        {
          "output_type": "stream",
          "text": [
            "Drive already mounted at /content/drive; to attempt to forcibly remount, call drive.mount(\"/content/drive\", force_remount=True).\n"
          ],
          "name": "stdout"
        },
        {
          "output_type": "execute_result",
          "data": {
            "text/html": [
              "<div>\n",
              "<style scoped>\n",
              "    .dataframe tbody tr th:only-of-type {\n",
              "        vertical-align: middle;\n",
              "    }\n",
              "\n",
              "    .dataframe tbody tr th {\n",
              "        vertical-align: top;\n",
              "    }\n",
              "\n",
              "    .dataframe thead th {\n",
              "        text-align: right;\n",
              "    }\n",
              "</style>\n",
              "<table border=\"1\" class=\"dataframe\">\n",
              "  <thead>\n",
              "    <tr style=\"text-align: right;\">\n",
              "      <th></th>\n",
              "      <th>Unnamed: 0</th>\n",
              "      <th>Quantity</th>\n",
              "      <th>UnitPrice</th>\n",
              "    </tr>\n",
              "  </thead>\n",
              "  <tbody>\n",
              "    <tr>\n",
              "      <th>count</th>\n",
              "      <td>401604.000000</td>\n",
              "      <td>401604.000000</td>\n",
              "      <td>401604.000000</td>\n",
              "    </tr>\n",
              "    <tr>\n",
              "      <th>mean</th>\n",
              "      <td>277729.795869</td>\n",
              "      <td>12.183273</td>\n",
              "      <td>3.474064</td>\n",
              "    </tr>\n",
              "    <tr>\n",
              "      <th>std</th>\n",
              "      <td>152507.474480</td>\n",
              "      <td>250.283037</td>\n",
              "      <td>69.764035</td>\n",
              "    </tr>\n",
              "    <tr>\n",
              "      <th>min</th>\n",
              "      <td>0.000000</td>\n",
              "      <td>-80995.000000</td>\n",
              "      <td>0.000000</td>\n",
              "    </tr>\n",
              "    <tr>\n",
              "      <th>25%</th>\n",
              "      <td>147762.750000</td>\n",
              "      <td>2.000000</td>\n",
              "      <td>1.250000</td>\n",
              "    </tr>\n",
              "    <tr>\n",
              "      <th>50%</th>\n",
              "      <td>283870.500000</td>\n",
              "      <td>5.000000</td>\n",
              "      <td>1.950000</td>\n",
              "    </tr>\n",
              "    <tr>\n",
              "      <th>75%</th>\n",
              "      <td>408888.250000</td>\n",
              "      <td>12.000000</td>\n",
              "      <td>3.750000</td>\n",
              "    </tr>\n",
              "    <tr>\n",
              "      <th>max</th>\n",
              "      <td>541908.000000</td>\n",
              "      <td>80995.000000</td>\n",
              "      <td>38970.000000</td>\n",
              "    </tr>\n",
              "  </tbody>\n",
              "</table>\n",
              "</div>"
            ],
            "text/plain": [
              "          Unnamed: 0       Quantity      UnitPrice\n",
              "count  401604.000000  401604.000000  401604.000000\n",
              "mean   277729.795869      12.183273       3.474064\n",
              "std    152507.474480     250.283037      69.764035\n",
              "min         0.000000  -80995.000000       0.000000\n",
              "25%    147762.750000       2.000000       1.250000\n",
              "50%    283870.500000       5.000000       1.950000\n",
              "75%    408888.250000      12.000000       3.750000\n",
              "max    541908.000000   80995.000000   38970.000000"
            ]
          },
          "metadata": {
            "tags": []
          },
          "execution_count": 3
        }
      ]
    },
    {
      "cell_type": "markdown",
      "metadata": {
        "id": "-yScaF9K_Wr_"
      },
      "source": [
        "## 2.1) Number of customers (/products/countries)\n",
        "\n",
        "**Task:** Find the numbers of customers, products and transaction (let's say each transaction corresponds to a unique InvoiceNo).\n",
        "\n",
        "**Task:** Find top 10 countries with the largest numbers of purchases sorted in descreasing order.  Use `.groupby` and `.unique` functions."
      ]
    },
    {
      "cell_type": "code",
      "metadata": {
        "id": "PCXSYqJB_XBh",
        "colab": {
          "base_uri": "https://localhost:8080/",
          "height": 164
        },
        "outputId": "63654a20-de76-4d8d-f0de-c7a935927d21"
      },
      "source": [
        "# As we can see below on the row \"unique\", there are 22190 transactions, 3684 products and 4372 customers.\n",
        "df_dropna[['InvoiceNo', 'StockCode', 'Description', 'InvoiceDate', 'CustomerID', 'Country']].describe()"
      ],
      "execution_count": null,
      "outputs": [
        {
          "output_type": "execute_result",
          "data": {
            "text/html": [
              "<div>\n",
              "<style scoped>\n",
              "    .dataframe tbody tr th:only-of-type {\n",
              "        vertical-align: middle;\n",
              "    }\n",
              "\n",
              "    .dataframe tbody tr th {\n",
              "        vertical-align: top;\n",
              "    }\n",
              "\n",
              "    .dataframe thead th {\n",
              "        text-align: right;\n",
              "    }\n",
              "</style>\n",
              "<table border=\"1\" class=\"dataframe\">\n",
              "  <thead>\n",
              "    <tr style=\"text-align: right;\">\n",
              "      <th></th>\n",
              "      <th>InvoiceNo</th>\n",
              "      <th>StockCode</th>\n",
              "      <th>Description</th>\n",
              "      <th>InvoiceDate</th>\n",
              "      <th>CustomerID</th>\n",
              "      <th>Country</th>\n",
              "    </tr>\n",
              "  </thead>\n",
              "  <tbody>\n",
              "    <tr>\n",
              "      <th>count</th>\n",
              "      <td>401604</td>\n",
              "      <td>401604</td>\n",
              "      <td>401604</td>\n",
              "      <td>401604</td>\n",
              "      <td>401604</td>\n",
              "      <td>401604</td>\n",
              "    </tr>\n",
              "    <tr>\n",
              "      <th>unique</th>\n",
              "      <td>22190</td>\n",
              "      <td>3684</td>\n",
              "      <td>3896</td>\n",
              "      <td>20460</td>\n",
              "      <td>4372</td>\n",
              "      <td>37</td>\n",
              "    </tr>\n",
              "    <tr>\n",
              "      <th>top</th>\n",
              "      <td>576339</td>\n",
              "      <td>85123A</td>\n",
              "      <td>WHITE HANGING HEART T-LIGHT HOLDER</td>\n",
              "      <td>2011-11-14 15:27:00</td>\n",
              "      <td>17841</td>\n",
              "      <td>United Kingdom</td>\n",
              "    </tr>\n",
              "    <tr>\n",
              "      <th>freq</th>\n",
              "      <td>542</td>\n",
              "      <td>2065</td>\n",
              "      <td>2058</td>\n",
              "      <td>543</td>\n",
              "      <td>7812</td>\n",
              "      <td>356728</td>\n",
              "    </tr>\n",
              "  </tbody>\n",
              "</table>\n",
              "</div>"
            ],
            "text/plain": [
              "       InvoiceNo StockCode  ... CustomerID         Country\n",
              "count     401604    401604  ...     401604          401604\n",
              "unique     22190      3684  ...       4372              37\n",
              "top       576339    85123A  ...      17841  United Kingdom\n",
              "freq         542      2065  ...       7812          356728\n",
              "\n",
              "[4 rows x 6 columns]"
            ]
          },
          "metadata": {
            "tags": []
          },
          "execution_count": 4
        }
      ]
    },
    {
      "cell_type": "code",
      "metadata": {
        "id": "SV7Q9DKL_mAk",
        "colab": {
          "base_uri": "https://localhost:8080/"
        },
        "outputId": "0b0ef2d0-642c-43c5-b42b-c494bf87cbe1"
      },
      "source": [
        "df_dropna['Country'].unique()"
      ],
      "execution_count": null,
      "outputs": [
        {
          "output_type": "execute_result",
          "data": {
            "text/plain": [
              "array(['United Kingdom', 'France', 'Australia', 'Netherlands', 'Germany',\n",
              "       'Norway', 'EIRE', 'Switzerland', 'Spain', 'Poland', 'Portugal',\n",
              "       'Italy', 'Belgium', 'Lithuania', 'Japan', 'Iceland',\n",
              "       'Channel Islands', 'Denmark', 'Cyprus', 'Sweden', 'Austria',\n",
              "       'Israel', 'Finland', 'Greece', 'Singapore', 'Lebanon',\n",
              "       'United Arab Emirates', 'Saudi Arabia', 'Czech Republic', 'Canada',\n",
              "       'Unspecified', 'Brazil', 'USA', 'European Community', 'Bahrain',\n",
              "       'Malta', 'RSA'], dtype=object)"
            ]
          },
          "metadata": {
            "tags": []
          },
          "execution_count": 5
        }
      ]
    },
    {
      "cell_type": "code",
      "metadata": {
        "id": "S8TKICodBM7L",
        "colab": {
          "base_uri": "https://localhost:8080/",
          "height": 370
        },
        "outputId": "6cc0115d-ad3f-4753-ffca-a2063a373769"
      },
      "source": [
        "df_dropna[['Country', 'InvoiceNo']].groupby('Country').count()\\\n",
        ".sort_values(by='InvoiceNo', ascending=False).head(10)"
      ],
      "execution_count": null,
      "outputs": [
        {
          "output_type": "execute_result",
          "data": {
            "text/html": [
              "<div>\n",
              "<style scoped>\n",
              "    .dataframe tbody tr th:only-of-type {\n",
              "        vertical-align: middle;\n",
              "    }\n",
              "\n",
              "    .dataframe tbody tr th {\n",
              "        vertical-align: top;\n",
              "    }\n",
              "\n",
              "    .dataframe thead th {\n",
              "        text-align: right;\n",
              "    }\n",
              "</style>\n",
              "<table border=\"1\" class=\"dataframe\">\n",
              "  <thead>\n",
              "    <tr style=\"text-align: right;\">\n",
              "      <th></th>\n",
              "      <th>InvoiceNo</th>\n",
              "    </tr>\n",
              "    <tr>\n",
              "      <th>Country</th>\n",
              "      <th></th>\n",
              "    </tr>\n",
              "  </thead>\n",
              "  <tbody>\n",
              "    <tr>\n",
              "      <th>United Kingdom</th>\n",
              "      <td>356728</td>\n",
              "    </tr>\n",
              "    <tr>\n",
              "      <th>Germany</th>\n",
              "      <td>9480</td>\n",
              "    </tr>\n",
              "    <tr>\n",
              "      <th>France</th>\n",
              "      <td>8475</td>\n",
              "    </tr>\n",
              "    <tr>\n",
              "      <th>EIRE</th>\n",
              "      <td>7475</td>\n",
              "    </tr>\n",
              "    <tr>\n",
              "      <th>Spain</th>\n",
              "      <td>2528</td>\n",
              "    </tr>\n",
              "    <tr>\n",
              "      <th>Netherlands</th>\n",
              "      <td>2371</td>\n",
              "    </tr>\n",
              "    <tr>\n",
              "      <th>Belgium</th>\n",
              "      <td>2069</td>\n",
              "    </tr>\n",
              "    <tr>\n",
              "      <th>Switzerland</th>\n",
              "      <td>1877</td>\n",
              "    </tr>\n",
              "    <tr>\n",
              "      <th>Portugal</th>\n",
              "      <td>1471</td>\n",
              "    </tr>\n",
              "    <tr>\n",
              "      <th>Australia</th>\n",
              "      <td>1258</td>\n",
              "    </tr>\n",
              "  </tbody>\n",
              "</table>\n",
              "</div>"
            ],
            "text/plain": [
              "                InvoiceNo\n",
              "Country                  \n",
              "United Kingdom     356728\n",
              "Germany              9480\n",
              "France               8475\n",
              "EIRE                 7475\n",
              "Spain                2528\n",
              "Netherlands          2371\n",
              "Belgium              2069\n",
              "Switzerland          1877\n",
              "Portugal             1471\n",
              "Australia            1258"
            ]
          },
          "metadata": {
            "tags": []
          },
          "execution_count": 6
        }
      ]
    },
    {
      "cell_type": "markdown",
      "metadata": {
        "id": "K5GuiwbEBemn"
      },
      "source": [
        "## 2.2) Products per transaction\n",
        "\n",
        "**Task:** Find the numbers of products in each transaction, then show the top 10, use `.groupby`."
      ]
    },
    {
      "cell_type": "code",
      "metadata": {
        "id": "s7PXcBivbXnP",
        "colab": {
          "base_uri": "https://localhost:8080/",
          "height": 399
        },
        "outputId": "1cf22382-0d01-4c3e-be0f-d4a2cb5b95d1"
      },
      "source": [
        "df_dropna[['InvoiceNo','StockCode']]"
      ],
      "execution_count": null,
      "outputs": [
        {
          "output_type": "execute_result",
          "data": {
            "text/html": [
              "<div>\n",
              "<style scoped>\n",
              "    .dataframe tbody tr th:only-of-type {\n",
              "        vertical-align: middle;\n",
              "    }\n",
              "\n",
              "    .dataframe tbody tr th {\n",
              "        vertical-align: top;\n",
              "    }\n",
              "\n",
              "    .dataframe thead th {\n",
              "        text-align: right;\n",
              "    }\n",
              "</style>\n",
              "<table border=\"1\" class=\"dataframe\">\n",
              "  <thead>\n",
              "    <tr style=\"text-align: right;\">\n",
              "      <th></th>\n",
              "      <th>InvoiceNo</th>\n",
              "      <th>StockCode</th>\n",
              "    </tr>\n",
              "  </thead>\n",
              "  <tbody>\n",
              "    <tr>\n",
              "      <th>0</th>\n",
              "      <td>536365</td>\n",
              "      <td>85123A</td>\n",
              "    </tr>\n",
              "    <tr>\n",
              "      <th>1</th>\n",
              "      <td>536365</td>\n",
              "      <td>71053</td>\n",
              "    </tr>\n",
              "    <tr>\n",
              "      <th>2</th>\n",
              "      <td>536365</td>\n",
              "      <td>84406B</td>\n",
              "    </tr>\n",
              "    <tr>\n",
              "      <th>3</th>\n",
              "      <td>536365</td>\n",
              "      <td>84029G</td>\n",
              "    </tr>\n",
              "    <tr>\n",
              "      <th>4</th>\n",
              "      <td>536365</td>\n",
              "      <td>84029E</td>\n",
              "    </tr>\n",
              "    <tr>\n",
              "      <th>...</th>\n",
              "      <td>...</td>\n",
              "      <td>...</td>\n",
              "    </tr>\n",
              "    <tr>\n",
              "      <th>401599</th>\n",
              "      <td>581587</td>\n",
              "      <td>22613</td>\n",
              "    </tr>\n",
              "    <tr>\n",
              "      <th>401600</th>\n",
              "      <td>581587</td>\n",
              "      <td>22899</td>\n",
              "    </tr>\n",
              "    <tr>\n",
              "      <th>401601</th>\n",
              "      <td>581587</td>\n",
              "      <td>23254</td>\n",
              "    </tr>\n",
              "    <tr>\n",
              "      <th>401602</th>\n",
              "      <td>581587</td>\n",
              "      <td>23255</td>\n",
              "    </tr>\n",
              "    <tr>\n",
              "      <th>401603</th>\n",
              "      <td>581587</td>\n",
              "      <td>22138</td>\n",
              "    </tr>\n",
              "  </tbody>\n",
              "</table>\n",
              "<p>401604 rows × 2 columns</p>\n",
              "</div>"
            ],
            "text/plain": [
              "       InvoiceNo StockCode\n",
              "0         536365    85123A\n",
              "1         536365     71053\n",
              "2         536365    84406B\n",
              "3         536365    84029G\n",
              "4         536365    84029E\n",
              "...          ...       ...\n",
              "401599    581587     22613\n",
              "401600    581587     22899\n",
              "401601    581587     23254\n",
              "401602    581587     23255\n",
              "401603    581587     22138\n",
              "\n",
              "[401604 rows x 2 columns]"
            ]
          },
          "metadata": {
            "tags": []
          },
          "execution_count": 7
        }
      ]
    },
    {
      "cell_type": "code",
      "metadata": {
        "id": "5UUOdbKxBe4U",
        "colab": {
          "base_uri": "https://localhost:8080/",
          "height": 370
        },
        "outputId": "868ef9ed-1662-4123-c356-7a4a393cb656"
      },
      "source": [
        "# number of products per transaction\n",
        "df_dropna[['InvoiceNo','StockCode']].groupby(['InvoiceNo']).count()\\\n",
        ".rename(columns = {'StockCode':'Number of products'})\\\n",
        ".sort_values(by='Number of products', ascending=False).head(10)"
      ],
      "execution_count": null,
      "outputs": [
        {
          "output_type": "execute_result",
          "data": {
            "text/html": [
              "<div>\n",
              "<style scoped>\n",
              "    .dataframe tbody tr th:only-of-type {\n",
              "        vertical-align: middle;\n",
              "    }\n",
              "\n",
              "    .dataframe tbody tr th {\n",
              "        vertical-align: top;\n",
              "    }\n",
              "\n",
              "    .dataframe thead th {\n",
              "        text-align: right;\n",
              "    }\n",
              "</style>\n",
              "<table border=\"1\" class=\"dataframe\">\n",
              "  <thead>\n",
              "    <tr style=\"text-align: right;\">\n",
              "      <th></th>\n",
              "      <th>Number of products</th>\n",
              "    </tr>\n",
              "    <tr>\n",
              "      <th>InvoiceNo</th>\n",
              "      <th></th>\n",
              "    </tr>\n",
              "  </thead>\n",
              "  <tbody>\n",
              "    <tr>\n",
              "      <th>576339</th>\n",
              "      <td>542</td>\n",
              "    </tr>\n",
              "    <tr>\n",
              "      <th>579196</th>\n",
              "      <td>533</td>\n",
              "    </tr>\n",
              "    <tr>\n",
              "      <th>580727</th>\n",
              "      <td>529</td>\n",
              "    </tr>\n",
              "    <tr>\n",
              "      <th>578270</th>\n",
              "      <td>442</td>\n",
              "    </tr>\n",
              "    <tr>\n",
              "      <th>573576</th>\n",
              "      <td>435</td>\n",
              "    </tr>\n",
              "    <tr>\n",
              "      <th>567656</th>\n",
              "      <td>421</td>\n",
              "    </tr>\n",
              "    <tr>\n",
              "      <th>567183</th>\n",
              "      <td>392</td>\n",
              "    </tr>\n",
              "    <tr>\n",
              "      <th>575607</th>\n",
              "      <td>377</td>\n",
              "    </tr>\n",
              "    <tr>\n",
              "      <th>571441</th>\n",
              "      <td>364</td>\n",
              "    </tr>\n",
              "    <tr>\n",
              "      <th>570488</th>\n",
              "      <td>353</td>\n",
              "    </tr>\n",
              "  </tbody>\n",
              "</table>\n",
              "</div>"
            ],
            "text/plain": [
              "           Number of products\n",
              "InvoiceNo                    \n",
              "576339                    542\n",
              "579196                    533\n",
              "580727                    529\n",
              "578270                    442\n",
              "573576                    435\n",
              "567656                    421\n",
              "567183                    392\n",
              "575607                    377\n",
              "571441                    364\n",
              "570488                    353"
            ]
          },
          "metadata": {
            "tags": []
          },
          "execution_count": 8
        }
      ]
    },
    {
      "cell_type": "markdown",
      "metadata": {
        "id": "wvfesr10Bt5k"
      },
      "source": [
        "## 2.3) Transactions per country\n",
        "\n",
        "Find the numbers of unique invoice numbers per country, using `.groupby` and `.nunique`"
      ]
    },
    {
      "cell_type": "code",
      "metadata": {
        "id": "JYw5pN8iZvOW",
        "colab": {
          "base_uri": "https://localhost:8080/"
        },
        "outputId": "5744aa1b-be9d-4443-ed32-c201f1250e6a"
      },
      "source": [
        "# transactions per country\n",
        "#transPerCountry = df_dropna[['InvoiceNo', 'Country']].groupby(['InvoiceNo', 'Country']).count().reset_index(drop = False)\\\n",
        "#['Country'].value_counts()\n",
        "#transPerCountry\n",
        "\n",
        "transPerCountry = df_dropna.groupby(['Country'])['InvoiceNo'].nunique()\n",
        "transPerCountry.sort_values(ascending=False).head(10)"
      ],
      "execution_count": null,
      "outputs": [
        {
          "output_type": "execute_result",
          "data": {
            "text/plain": [
              "Country\n",
              "United Kingdom    19857\n",
              "Germany             603\n",
              "France              458\n",
              "EIRE                319\n",
              "Belgium             119\n",
              "Spain               105\n",
              "Netherlands         101\n",
              "Switzerland          71\n",
              "Portugal             70\n",
              "Australia            69\n",
              "Name: InvoiceNo, dtype: int64"
            ]
          },
          "metadata": {
            "tags": []
          },
          "execution_count": 9
        }
      ]
    },
    {
      "cell_type": "code",
      "metadata": {
        "id": "k-GJmmffgck_",
        "colab": {
          "base_uri": "https://localhost:8080/"
        },
        "outputId": "f53921b3-f087-446c-a37e-61023e261651"
      },
      "source": [
        "type(transPerCountry)"
      ],
      "execution_count": null,
      "outputs": [
        {
          "output_type": "execute_result",
          "data": {
            "text/plain": [
              "pandas.core.series.Series"
            ]
          },
          "metadata": {
            "tags": []
          },
          "execution_count": 10
        }
      ]
    },
    {
      "cell_type": "code",
      "metadata": {
        "id": "fIBaxYrrB_dN",
        "colab": {
          "base_uri": "https://localhost:8080/",
          "height": 542
        },
        "outputId": "74e1f4df-14e5-4811-f1f8-03aacf999388"
      },
      "source": [
        "# choropleth map\n",
        "import plotly.graph_objs as go\n",
        "from plotly.offline import init_notebook_mode,iplot\n",
        "\n",
        "data = dict(type='choropleth',\n",
        "locations = transPerCountry.index,\n",
        "locationmode = 'country names', z = transPerCountry,\n",
        "text = transPerCountry.index, colorbar = {'title':'Order nb.'},\n",
        "colorscale=[[0, 'rgb(224,255,255)'],\n",
        "            [0.01, 'rgb(166,206,227)'], [0.02, 'rgb(31,120,180)'],\n",
        "            [0.03, 'rgb(178,223,138)'], [0.05, 'rgb(51,160,44)'],\n",
        "            [0.10, 'rgb(251,154,153)'], [0.20, 'rgb(255,255,0)'],\n",
        "            [1, 'rgb(227,26,28)']],    \n",
        "reversescale = False)\n",
        "\n",
        "layout = dict(title='Number of transactions per country',\n",
        "geo = dict(showframe = True, projection={'type':'mercator'}))\n",
        "\n",
        "choromap = go.Figure(data = [data], layout = layout)\n",
        "iplot(choromap, validate=False)"
      ],
      "execution_count": null,
      "outputs": [
        {
          "output_type": "display_data",
          "data": {
            "text/html": [
              "<html>\n",
              "<head><meta charset=\"utf-8\" /></head>\n",
              "<body>\n",
              "    <div>\n",
              "            <script src=\"https://cdnjs.cloudflare.com/ajax/libs/mathjax/2.7.5/MathJax.js?config=TeX-AMS-MML_SVG\"></script><script type=\"text/javascript\">if (window.MathJax) {MathJax.Hub.Config({SVG: {font: \"STIX-Web\"}});}</script>\n",
              "                <script type=\"text/javascript\">window.PlotlyConfig = {MathJaxConfig: 'local'};</script>\n",
              "        <script src=\"https://cdn.plot.ly/plotly-latest.min.js\"></script>    \n",
              "            <div id=\"db74583e-0100-4c02-8c0f-ffbf479585b7\" class=\"plotly-graph-div\" style=\"height:525px; width:100%;\"></div>\n",
              "            <script type=\"text/javascript\">\n",
              "                \n",
              "                    window.PLOTLYENV=window.PLOTLYENV || {};\n",
              "                    \n",
              "                if (document.getElementById(\"db74583e-0100-4c02-8c0f-ffbf479585b7\")) {\n",
              "                    Plotly.newPlot(\n",
              "                        'db74583e-0100-4c02-8c0f-ffbf479585b7',\n",
              "                        [{\"colorbar\": {\"title\": {\"text\": \"Order nb.\"}}, \"colorscale\": [[0, \"rgb(224,255,255)\"], [0.01, \"rgb(166,206,227)\"], [0.02, \"rgb(31,120,180)\"], [0.03, \"rgb(178,223,138)\"], [0.05, \"rgb(51,160,44)\"], [0.1, \"rgb(251,154,153)\"], [0.2, \"rgb(255,255,0)\"], [1, \"rgb(227,26,28)\"]], \"locationmode\": \"country names\", \"locations\": [\"Australia\", \"Austria\", \"Bahrain\", \"Belgium\", \"Brazil\", \"Canada\", \"Channel Islands\", \"Cyprus\", \"Czech Republic\", \"Denmark\", \"EIRE\", \"European Community\", \"Finland\", \"France\", \"Germany\", \"Greece\", \"Iceland\", \"Israel\", \"Italy\", \"Japan\", \"Lebanon\", \"Lithuania\", \"Malta\", \"Netherlands\", \"Norway\", \"Poland\", \"Portugal\", \"RSA\", \"Saudi Arabia\", \"Singapore\", \"Spain\", \"Sweden\", \"Switzerland\", \"USA\", \"United Arab Emirates\", \"United Kingdom\", \"Unspecified\"], \"reversescale\": false, \"text\": [\"Australia\", \"Austria\", \"Bahrain\", \"Belgium\", \"Brazil\", \"Canada\", \"Channel Islands\", \"Cyprus\", \"Czech Republic\", \"Denmark\", \"EIRE\", \"European Community\", \"Finland\", \"France\", \"Germany\", \"Greece\", \"Iceland\", \"Israel\", \"Italy\", \"Japan\", \"Lebanon\", \"Lithuania\", \"Malta\", \"Netherlands\", \"Norway\", \"Poland\", \"Portugal\", \"RSA\", \"Saudi Arabia\", \"Singapore\", \"Spain\", \"Sweden\", \"Switzerland\", \"USA\", \"United Arab Emirates\", \"United Kingdom\", \"Unspecified\"], \"type\": \"choropleth\", \"z\": [69, 19, 2, 119, 1, 6, 33, 20, 5, 21, 319, 5, 48, 458, 603, 6, 7, 6, 55, 28, 1, 4, 10, 101, 40, 24, 70, 1, 2, 10, 105, 46, 71, 7, 3, 19857, 8]}],\n",
              "                        {\"geo\": {\"projection\": {\"type\": \"mercator\"}, \"showframe\": true}, \"template\": {\"data\": {\"bar\": [{\"error_x\": {\"color\": \"#2a3f5f\"}, \"error_y\": {\"color\": \"#2a3f5f\"}, \"marker\": {\"line\": {\"color\": \"#E5ECF6\", \"width\": 0.5}}, \"type\": \"bar\"}], \"barpolar\": [{\"marker\": {\"line\": {\"color\": \"#E5ECF6\", \"width\": 0.5}}, \"type\": \"barpolar\"}], \"carpet\": [{\"aaxis\": {\"endlinecolor\": \"#2a3f5f\", \"gridcolor\": \"white\", \"linecolor\": \"white\", \"minorgridcolor\": \"white\", \"startlinecolor\": \"#2a3f5f\"}, \"baxis\": {\"endlinecolor\": \"#2a3f5f\", \"gridcolor\": \"white\", \"linecolor\": \"white\", \"minorgridcolor\": \"white\", \"startlinecolor\": \"#2a3f5f\"}, \"type\": \"carpet\"}], \"choropleth\": [{\"colorbar\": {\"outlinewidth\": 0, \"ticks\": \"\"}, \"type\": \"choropleth\"}], \"contour\": [{\"colorbar\": {\"outlinewidth\": 0, \"ticks\": \"\"}, \"colorscale\": [[0.0, \"#0d0887\"], [0.1111111111111111, \"#46039f\"], [0.2222222222222222, \"#7201a8\"], [0.3333333333333333, \"#9c179e\"], [0.4444444444444444, \"#bd3786\"], [0.5555555555555556, \"#d8576b\"], [0.6666666666666666, \"#ed7953\"], [0.7777777777777778, \"#fb9f3a\"], [0.8888888888888888, \"#fdca26\"], [1.0, \"#f0f921\"]], \"type\": \"contour\"}], \"contourcarpet\": [{\"colorbar\": {\"outlinewidth\": 0, \"ticks\": \"\"}, \"type\": \"contourcarpet\"}], \"heatmap\": [{\"colorbar\": {\"outlinewidth\": 0, \"ticks\": \"\"}, \"colorscale\": [[0.0, \"#0d0887\"], [0.1111111111111111, \"#46039f\"], [0.2222222222222222, \"#7201a8\"], [0.3333333333333333, \"#9c179e\"], [0.4444444444444444, \"#bd3786\"], [0.5555555555555556, \"#d8576b\"], [0.6666666666666666, \"#ed7953\"], [0.7777777777777778, \"#fb9f3a\"], [0.8888888888888888, \"#fdca26\"], [1.0, \"#f0f921\"]], \"type\": \"heatmap\"}], \"heatmapgl\": [{\"colorbar\": {\"outlinewidth\": 0, \"ticks\": \"\"}, \"colorscale\": [[0.0, \"#0d0887\"], [0.1111111111111111, \"#46039f\"], [0.2222222222222222, \"#7201a8\"], [0.3333333333333333, \"#9c179e\"], [0.4444444444444444, \"#bd3786\"], [0.5555555555555556, \"#d8576b\"], [0.6666666666666666, \"#ed7953\"], [0.7777777777777778, \"#fb9f3a\"], [0.8888888888888888, \"#fdca26\"], [1.0, \"#f0f921\"]], \"type\": \"heatmapgl\"}], \"histogram\": [{\"marker\": {\"colorbar\": {\"outlinewidth\": 0, \"ticks\": \"\"}}, \"type\": \"histogram\"}], \"histogram2d\": [{\"colorbar\": {\"outlinewidth\": 0, \"ticks\": \"\"}, \"colorscale\": [[0.0, \"#0d0887\"], [0.1111111111111111, \"#46039f\"], [0.2222222222222222, \"#7201a8\"], [0.3333333333333333, \"#9c179e\"], [0.4444444444444444, \"#bd3786\"], [0.5555555555555556, \"#d8576b\"], [0.6666666666666666, \"#ed7953\"], [0.7777777777777778, \"#fb9f3a\"], [0.8888888888888888, \"#fdca26\"], [1.0, \"#f0f921\"]], \"type\": \"histogram2d\"}], \"histogram2dcontour\": [{\"colorbar\": {\"outlinewidth\": 0, \"ticks\": \"\"}, \"colorscale\": [[0.0, \"#0d0887\"], [0.1111111111111111, \"#46039f\"], [0.2222222222222222, \"#7201a8\"], [0.3333333333333333, \"#9c179e\"], [0.4444444444444444, \"#bd3786\"], [0.5555555555555556, \"#d8576b\"], [0.6666666666666666, \"#ed7953\"], [0.7777777777777778, \"#fb9f3a\"], [0.8888888888888888, \"#fdca26\"], [1.0, \"#f0f921\"]], \"type\": \"histogram2dcontour\"}], \"mesh3d\": [{\"colorbar\": {\"outlinewidth\": 0, \"ticks\": \"\"}, \"type\": \"mesh3d\"}], \"parcoords\": [{\"line\": {\"colorbar\": {\"outlinewidth\": 0, \"ticks\": \"\"}}, \"type\": \"parcoords\"}], \"pie\": [{\"automargin\": true, \"type\": \"pie\"}], \"scatter\": [{\"marker\": {\"colorbar\": {\"outlinewidth\": 0, \"ticks\": \"\"}}, \"type\": \"scatter\"}], \"scatter3d\": [{\"line\": {\"colorbar\": {\"outlinewidth\": 0, \"ticks\": \"\"}}, \"marker\": {\"colorbar\": {\"outlinewidth\": 0, \"ticks\": \"\"}}, \"type\": \"scatter3d\"}], \"scattercarpet\": [{\"marker\": {\"colorbar\": {\"outlinewidth\": 0, \"ticks\": \"\"}}, \"type\": \"scattercarpet\"}], \"scattergeo\": [{\"marker\": {\"colorbar\": {\"outlinewidth\": 0, \"ticks\": \"\"}}, \"type\": \"scattergeo\"}], \"scattergl\": [{\"marker\": {\"colorbar\": {\"outlinewidth\": 0, \"ticks\": \"\"}}, \"type\": \"scattergl\"}], \"scattermapbox\": [{\"marker\": {\"colorbar\": {\"outlinewidth\": 0, \"ticks\": \"\"}}, \"type\": \"scattermapbox\"}], \"scatterpolar\": [{\"marker\": {\"colorbar\": {\"outlinewidth\": 0, \"ticks\": \"\"}}, \"type\": \"scatterpolar\"}], \"scatterpolargl\": [{\"marker\": {\"colorbar\": {\"outlinewidth\": 0, \"ticks\": \"\"}}, \"type\": \"scatterpolargl\"}], \"scatterternary\": [{\"marker\": {\"colorbar\": {\"outlinewidth\": 0, \"ticks\": \"\"}}, \"type\": \"scatterternary\"}], \"surface\": [{\"colorbar\": {\"outlinewidth\": 0, \"ticks\": \"\"}, \"colorscale\": [[0.0, \"#0d0887\"], [0.1111111111111111, \"#46039f\"], [0.2222222222222222, \"#7201a8\"], [0.3333333333333333, \"#9c179e\"], [0.4444444444444444, \"#bd3786\"], [0.5555555555555556, \"#d8576b\"], [0.6666666666666666, \"#ed7953\"], [0.7777777777777778, \"#fb9f3a\"], [0.8888888888888888, \"#fdca26\"], [1.0, \"#f0f921\"]], \"type\": \"surface\"}], \"table\": [{\"cells\": {\"fill\": {\"color\": \"#EBF0F8\"}, \"line\": {\"color\": \"white\"}}, \"header\": {\"fill\": {\"color\": \"#C8D4E3\"}, \"line\": {\"color\": \"white\"}}, \"type\": \"table\"}]}, \"layout\": {\"annotationdefaults\": {\"arrowcolor\": \"#2a3f5f\", \"arrowhead\": 0, \"arrowwidth\": 1}, \"coloraxis\": {\"colorbar\": {\"outlinewidth\": 0, \"ticks\": \"\"}}, \"colorscale\": {\"diverging\": [[0, \"#8e0152\"], [0.1, \"#c51b7d\"], [0.2, \"#de77ae\"], [0.3, \"#f1b6da\"], [0.4, \"#fde0ef\"], [0.5, \"#f7f7f7\"], [0.6, \"#e6f5d0\"], [0.7, \"#b8e186\"], [0.8, \"#7fbc41\"], [0.9, \"#4d9221\"], [1, \"#276419\"]], \"sequential\": [[0.0, \"#0d0887\"], [0.1111111111111111, \"#46039f\"], [0.2222222222222222, \"#7201a8\"], [0.3333333333333333, \"#9c179e\"], [0.4444444444444444, \"#bd3786\"], [0.5555555555555556, \"#d8576b\"], [0.6666666666666666, \"#ed7953\"], [0.7777777777777778, \"#fb9f3a\"], [0.8888888888888888, \"#fdca26\"], [1.0, \"#f0f921\"]], \"sequentialminus\": [[0.0, \"#0d0887\"], [0.1111111111111111, \"#46039f\"], [0.2222222222222222, \"#7201a8\"], [0.3333333333333333, \"#9c179e\"], [0.4444444444444444, \"#bd3786\"], [0.5555555555555556, \"#d8576b\"], [0.6666666666666666, \"#ed7953\"], [0.7777777777777778, \"#fb9f3a\"], [0.8888888888888888, \"#fdca26\"], [1.0, \"#f0f921\"]]}, \"colorway\": [\"#636efa\", \"#EF553B\", \"#00cc96\", \"#ab63fa\", \"#FFA15A\", \"#19d3f3\", \"#FF6692\", \"#B6E880\", \"#FF97FF\", \"#FECB52\"], \"font\": {\"color\": \"#2a3f5f\"}, \"geo\": {\"bgcolor\": \"white\", \"lakecolor\": \"white\", \"landcolor\": \"#E5ECF6\", \"showlakes\": true, \"showland\": true, \"subunitcolor\": \"white\"}, \"hoverlabel\": {\"align\": \"left\"}, \"hovermode\": \"closest\", \"mapbox\": {\"style\": \"light\"}, \"paper_bgcolor\": \"white\", \"plot_bgcolor\": \"#E5ECF6\", \"polar\": {\"angularaxis\": {\"gridcolor\": \"white\", \"linecolor\": \"white\", \"ticks\": \"\"}, \"bgcolor\": \"#E5ECF6\", \"radialaxis\": {\"gridcolor\": \"white\", \"linecolor\": \"white\", \"ticks\": \"\"}}, \"scene\": {\"xaxis\": {\"backgroundcolor\": \"#E5ECF6\", \"gridcolor\": \"white\", \"gridwidth\": 2, \"linecolor\": \"white\", \"showbackground\": true, \"ticks\": \"\", \"zerolinecolor\": \"white\"}, \"yaxis\": {\"backgroundcolor\": \"#E5ECF6\", \"gridcolor\": \"white\", \"gridwidth\": 2, \"linecolor\": \"white\", \"showbackground\": true, \"ticks\": \"\", \"zerolinecolor\": \"white\"}, \"zaxis\": {\"backgroundcolor\": \"#E5ECF6\", \"gridcolor\": \"white\", \"gridwidth\": 2, \"linecolor\": \"white\", \"showbackground\": true, \"ticks\": \"\", \"zerolinecolor\": \"white\"}}, \"shapedefaults\": {\"line\": {\"color\": \"#2a3f5f\"}}, \"ternary\": {\"aaxis\": {\"gridcolor\": \"white\", \"linecolor\": \"white\", \"ticks\": \"\"}, \"baxis\": {\"gridcolor\": \"white\", \"linecolor\": \"white\", \"ticks\": \"\"}, \"bgcolor\": \"#E5ECF6\", \"caxis\": {\"gridcolor\": \"white\", \"linecolor\": \"white\", \"ticks\": \"\"}}, \"title\": {\"x\": 0.05}, \"xaxis\": {\"automargin\": true, \"gridcolor\": \"white\", \"linecolor\": \"white\", \"ticks\": \"\", \"title\": {\"standoff\": 15}, \"zerolinecolor\": \"white\", \"zerolinewidth\": 2}, \"yaxis\": {\"automargin\": true, \"gridcolor\": \"white\", \"linecolor\": \"white\", \"ticks\": \"\", \"title\": {\"standoff\": 15}, \"zerolinecolor\": \"white\", \"zerolinewidth\": 2}}}, \"title\": {\"text\": \"Number of transactions per country\"}},\n",
              "                        {\"responsive\": true}\n",
              "                    ).then(function(){\n",
              "                            \n",
              "var gd = document.getElementById('db74583e-0100-4c02-8c0f-ffbf479585b7');\n",
              "var x = new MutationObserver(function (mutations, observer) {{\n",
              "        var display = window.getComputedStyle(gd).display;\n",
              "        if (!display || display === 'none') {{\n",
              "            console.log([gd, 'removed!']);\n",
              "            Plotly.purge(gd);\n",
              "            observer.disconnect();\n",
              "        }}\n",
              "}});\n",
              "\n",
              "// Listen for the removal of the full notebook cells\n",
              "var notebookContainer = gd.closest('#notebook-container');\n",
              "if (notebookContainer) {{\n",
              "    x.observe(notebookContainer, {childList: true});\n",
              "}}\n",
              "\n",
              "// Listen for the clearing of the current output cell\n",
              "var outputEl = gd.closest('.output');\n",
              "if (outputEl) {{\n",
              "    x.observe(outputEl, {childList: true});\n",
              "}}\n",
              "\n",
              "                        })\n",
              "                };\n",
              "                \n",
              "            </script>\n",
              "        </div>\n",
              "</body>\n",
              "</html>"
            ]
          },
          "metadata": {
            "tags": []
          }
        }
      ]
    },
    {
      "cell_type": "markdown",
      "metadata": {
        "id": "TP4_K5YHCVju"
      },
      "source": [
        "## 2.4) Cancelling orders\n",
        "\n",
        "Among observations, there are those with negative quantities. They correspond to cancelling orders (transactions).\n",
        "\n",
        "**Task:** Compute the number of cancelled transactions (cancelled transactions' InvoiceNo contain letter 'C'). What percentage does it represents?"
      ]
    },
    {
      "cell_type": "code",
      "metadata": {
        "id": "NYjsfnnWuEBQ"
      },
      "source": [
        "#orders[2100:2200]"
      ],
      "execution_count": null,
      "outputs": []
    },
    {
      "cell_type": "code",
      "metadata": {
        "id": "11MtPwrLCcYe",
        "colab": {
          "base_uri": "https://localhost:8080/"
        },
        "outputId": "e08010da-b3f6-4bc9-9a48-c94319ba22aa"
      },
      "source": [
        "orders = df_dropna.InvoiceNo.unique()\n",
        "n_orders = orders.shape[0]\n",
        "n_cancelled_orders = pd.Series(orders).apply(lambda x: 'C' in x).sum()\n",
        "\n",
        "print('Number of cancelled transactions: {}/{} ({:0.2f}%)'.format(n_cancelled_orders, n_orders,\\\n",
        "n_cancelled_orders/n_orders*100))"
      ],
      "execution_count": null,
      "outputs": [
        {
          "output_type": "stream",
          "text": [
            "Number of cancelled transactions: 3654/22190 (16.47%)\n"
          ],
          "name": "stdout"
        }
      ]
    },
    {
      "cell_type": "code",
      "metadata": {
        "id": "VXfeS-kEEkYc",
        "colab": {
          "base_uri": "https://localhost:8080/",
          "height": 282
        },
        "outputId": "a3cf5b3f-f3c9-4618-b98e-7dd5a95ee4c3"
      },
      "source": [
        "df.loc[df.InvoiceNo.apply(lambda x: 'C' in x)].describe()"
      ],
      "execution_count": null,
      "outputs": [
        {
          "output_type": "execute_result",
          "data": {
            "text/html": [
              "<div>\n",
              "<style scoped>\n",
              "    .dataframe tbody tr th:only-of-type {\n",
              "        vertical-align: middle;\n",
              "    }\n",
              "\n",
              "    .dataframe tbody tr th {\n",
              "        vertical-align: top;\n",
              "    }\n",
              "\n",
              "    .dataframe thead th {\n",
              "        text-align: right;\n",
              "    }\n",
              "</style>\n",
              "<table border=\"1\" class=\"dataframe\">\n",
              "  <thead>\n",
              "    <tr style=\"text-align: right;\">\n",
              "      <th></th>\n",
              "      <th>Unnamed: 0</th>\n",
              "      <th>Quantity</th>\n",
              "      <th>UnitPrice</th>\n",
              "    </tr>\n",
              "  </thead>\n",
              "  <tbody>\n",
              "    <tr>\n",
              "      <th>count</th>\n",
              "      <td>9288.000000</td>\n",
              "      <td>9288.000000</td>\n",
              "      <td>9288.000000</td>\n",
              "    </tr>\n",
              "    <tr>\n",
              "      <th>mean</th>\n",
              "      <td>257872.809216</td>\n",
              "      <td>-29.885228</td>\n",
              "      <td>48.393661</td>\n",
              "    </tr>\n",
              "    <tr>\n",
              "      <th>std</th>\n",
              "      <td>150143.638467</td>\n",
              "      <td>1145.786965</td>\n",
              "      <td>666.600430</td>\n",
              "    </tr>\n",
              "    <tr>\n",
              "      <th>min</th>\n",
              "      <td>141.000000</td>\n",
              "      <td>-80995.000000</td>\n",
              "      <td>0.010000</td>\n",
              "    </tr>\n",
              "    <tr>\n",
              "      <th>25%</th>\n",
              "      <td>127557.750000</td>\n",
              "      <td>-6.000000</td>\n",
              "      <td>1.450000</td>\n",
              "    </tr>\n",
              "    <tr>\n",
              "      <th>50%</th>\n",
              "      <td>255476.500000</td>\n",
              "      <td>-2.000000</td>\n",
              "      <td>2.950000</td>\n",
              "    </tr>\n",
              "    <tr>\n",
              "      <th>75%</th>\n",
              "      <td>383071.250000</td>\n",
              "      <td>-1.000000</td>\n",
              "      <td>5.950000</td>\n",
              "    </tr>\n",
              "    <tr>\n",
              "      <th>max</th>\n",
              "      <td>541717.000000</td>\n",
              "      <td>-1.000000</td>\n",
              "      <td>38970.000000</td>\n",
              "    </tr>\n",
              "  </tbody>\n",
              "</table>\n",
              "</div>"
            ],
            "text/plain": [
              "          Unnamed: 0      Quantity     UnitPrice\n",
              "count    9288.000000   9288.000000   9288.000000\n",
              "mean   257872.809216    -29.885228     48.393661\n",
              "std    150143.638467   1145.786965    666.600430\n",
              "min       141.000000 -80995.000000      0.010000\n",
              "25%    127557.750000     -6.000000      1.450000\n",
              "50%    255476.500000     -2.000000      2.950000\n",
              "75%    383071.250000     -1.000000      5.950000\n",
              "max    541717.000000     -1.000000  38970.000000"
            ]
          },
          "metadata": {
            "tags": []
          },
          "execution_count": 14
        }
      ]
    },
    {
      "cell_type": "markdown",
      "metadata": {
        "id": "Bhaj6ULTExzO"
      },
      "source": [
        "Cancelling orders occur due to customer wishes or product discounts:"
      ]
    },
    {
      "cell_type": "code",
      "metadata": {
        "id": "Cz-enJzuEqbc",
        "colab": {
          "base_uri": "https://localhost:8080/",
          "height": 194
        },
        "outputId": "3dc69cdd-3a50-4285-810c-8c8113ec1407"
      },
      "source": [
        "df.loc[df.InvoiceNo.apply(lambda x: 'C' in x)].head()"
      ],
      "execution_count": null,
      "outputs": [
        {
          "output_type": "execute_result",
          "data": {
            "text/html": [
              "<div>\n",
              "<style scoped>\n",
              "    .dataframe tbody tr th:only-of-type {\n",
              "        vertical-align: middle;\n",
              "    }\n",
              "\n",
              "    .dataframe tbody tr th {\n",
              "        vertical-align: top;\n",
              "    }\n",
              "\n",
              "    .dataframe thead th {\n",
              "        text-align: right;\n",
              "    }\n",
              "</style>\n",
              "<table border=\"1\" class=\"dataframe\">\n",
              "  <thead>\n",
              "    <tr style=\"text-align: right;\">\n",
              "      <th></th>\n",
              "      <th>Unnamed: 0</th>\n",
              "      <th>InvoiceNo</th>\n",
              "      <th>StockCode</th>\n",
              "      <th>Description</th>\n",
              "      <th>Quantity</th>\n",
              "      <th>InvoiceDate</th>\n",
              "      <th>UnitPrice</th>\n",
              "      <th>CustomerID</th>\n",
              "      <th>Country</th>\n",
              "    </tr>\n",
              "  </thead>\n",
              "  <tbody>\n",
              "    <tr>\n",
              "      <th>141</th>\n",
              "      <td>141</td>\n",
              "      <td>C536379</td>\n",
              "      <td>D</td>\n",
              "      <td>Discount</td>\n",
              "      <td>-1</td>\n",
              "      <td>2010-12-01 09:41:00</td>\n",
              "      <td>27.50</td>\n",
              "      <td>14527</td>\n",
              "      <td>United Kingdom</td>\n",
              "    </tr>\n",
              "    <tr>\n",
              "      <th>154</th>\n",
              "      <td>154</td>\n",
              "      <td>C536383</td>\n",
              "      <td>35004C</td>\n",
              "      <td>SET OF 3 COLOURED  FLYING DUCKS</td>\n",
              "      <td>-1</td>\n",
              "      <td>2010-12-01 09:49:00</td>\n",
              "      <td>4.65</td>\n",
              "      <td>15311</td>\n",
              "      <td>United Kingdom</td>\n",
              "    </tr>\n",
              "    <tr>\n",
              "      <th>235</th>\n",
              "      <td>235</td>\n",
              "      <td>C536391</td>\n",
              "      <td>22556</td>\n",
              "      <td>PLASTERS IN TIN CIRCUS PARADE</td>\n",
              "      <td>-12</td>\n",
              "      <td>2010-12-01 10:24:00</td>\n",
              "      <td>1.65</td>\n",
              "      <td>17548</td>\n",
              "      <td>United Kingdom</td>\n",
              "    </tr>\n",
              "    <tr>\n",
              "      <th>236</th>\n",
              "      <td>236</td>\n",
              "      <td>C536391</td>\n",
              "      <td>21984</td>\n",
              "      <td>PACK OF 12 PINK PAISLEY TISSUES</td>\n",
              "      <td>-24</td>\n",
              "      <td>2010-12-01 10:24:00</td>\n",
              "      <td>0.29</td>\n",
              "      <td>17548</td>\n",
              "      <td>United Kingdom</td>\n",
              "    </tr>\n",
              "    <tr>\n",
              "      <th>237</th>\n",
              "      <td>237</td>\n",
              "      <td>C536391</td>\n",
              "      <td>21983</td>\n",
              "      <td>PACK OF 12 BLUE PAISLEY TISSUES</td>\n",
              "      <td>-24</td>\n",
              "      <td>2010-12-01 10:24:00</td>\n",
              "      <td>0.29</td>\n",
              "      <td>17548</td>\n",
              "      <td>United Kingdom</td>\n",
              "    </tr>\n",
              "  </tbody>\n",
              "</table>\n",
              "</div>"
            ],
            "text/plain": [
              "     Unnamed: 0 InvoiceNo StockCode  ... UnitPrice  CustomerID         Country\n",
              "141         141   C536379         D  ...     27.50       14527  United Kingdom\n",
              "154         154   C536383    35004C  ...      4.65       15311  United Kingdom\n",
              "235         235   C536391     22556  ...      1.65       17548  United Kingdom\n",
              "236         236   C536391     21984  ...      0.29       17548  United Kingdom\n",
              "237         237   C536391     21983  ...      0.29       17548  United Kingdom\n",
              "\n",
              "[5 rows x 9 columns]"
            ]
          },
          "metadata": {
            "tags": []
          },
          "execution_count": 15
        }
      ]
    },
    {
      "cell_type": "markdown",
      "metadata": {
        "id": "aswvk0SqE4ZF"
      },
      "source": [
        "When there is a cancelling order, it's often the case that part of the command has been canceled. There is a counterpart which is a another purchase order with the same CustomerID, Description and UnitPrice, but different InvoiceID and date.\n",
        "\n",
        "Cancellations without a counterpart problaly due to the fact that the purchase commands happen before the beginning date of the data set, or they are discounts.\n",
        "\n",
        "We will create a new variable `QuantityCanceled` in the dataframe that indicate if part of the command has been canceled. \n",
        "\n",
        "We will also check the two cases:\n",
        "\n",
        "* a cancel order exists without counterpart\n",
        "* there's at least one counterpart \n",
        "\n",
        "The index of the corresponding cancel orders are respectively kept in the `doubtfull_entry` and `entry_to_remove` lists."
      ]
    },
    {
      "cell_type": "code",
      "metadata": {
        "id": "K1JX1lJ2C2p_",
        "colab": {
          "base_uri": "https://localhost:8080/"
        },
        "outputId": "1adcf1fe-a00c-4117-e701-04914215a48a"
      },
      "source": [
        "idx = pd.IndexSlice\n",
        "df_customer_stockcode = df_dropna.set_index(['CustomerID', 'StockCode'], append=True)\n",
        "\n",
        "import timeit\n",
        "\n",
        "start = timeit.default_timer()\n",
        "\n",
        "# Note: we don't consider discount entries\n",
        "# doubtfull_entry: cancel entries with no counterpart\n",
        "# entry_to_remove: cancel entries with counterparts and there is at least one entry with higher quantity!\n",
        "\n",
        "df_cleaned = df_dropna.copy(deep = True)\n",
        "df_cleaned['QuantityCanceled'] = 0\n",
        "\n",
        "entry_to_remove = [] ; doubtfull_entry = []\n",
        "\n",
        "for index, col in  df_dropna.iterrows():\n",
        "\n",
        "    if (col['Quantity'] > 0) or col['Description'] == 'Discount': continue\n",
        "    df_test = df_customer_stockcode.loc[idx[:, col['CustomerID'], col['StockCode']], :]\n",
        "    df_test = df_test[(df_test['InvoiceDate'] < col['InvoiceDate']) & (df_test['Quantity']   > 0)]\n",
        "    \n",
        "    # Cancelation WITHOUT counterpart\n",
        "    if (df_test.shape[0] == 0): \n",
        "        doubtfull_entry.append(index)\n",
        "    \n",
        "    # Cancelation WITH only one counterpart\n",
        "    elif (df_test.shape[0] == 1): \n",
        "        index_order = df_test.index[0][0]\n",
        "        df_cleaned.loc[index_order, 'QuantityCanceled'] = -col['Quantity']\n",
        "        entry_to_remove.append(index)        \n",
        "    \n",
        "    # Various counterparts exist in orders: we delete the last one\n",
        "    elif (df_test.shape[0] > 1): \n",
        "        df_test.sort_index(axis=0, ascending=False, inplace = True)        \n",
        "        for ind, val in df_test.iterrows():\n",
        "            if val['Quantity'] < -col['Quantity']: continue\n",
        "            df_cleaned.loc[ind[0], 'QuantityCanceled'] = -col['Quantity']\n",
        "            entry_to_remove.append(index) \n",
        "            break\n",
        "\n",
        "stop = timeit.default_timer()\n",
        "\n",
        "print('Time: ', stop - start)"
      ],
      "execution_count": null,
      "outputs": [
        {
          "output_type": "stream",
          "text": [
            "Time:  139.15823313899998\n"
          ],
          "name": "stdout"
        }
      ]
    },
    {
      "cell_type": "code",
      "metadata": {
        "id": "X9xxX-Hp48VW"
      },
      "source": [
        "#df_cleaned.head(100)"
      ],
      "execution_count": null,
      "outputs": []
    },
    {
      "cell_type": "markdown",
      "metadata": {
        "id": "fn1ONTKlFTwT"
      },
      "source": [
        "**Task**: evaluate lengths of `entry_to_remove` and `doubtfull_entry`. Delete corresponding rows from `df_cleaned`"
      ]
    },
    {
      "cell_type": "code",
      "metadata": {
        "id": "0bxmdoeiFAty",
        "colab": {
          "base_uri": "https://localhost:8080/"
        },
        "outputId": "3668eb83-3f7d-4289-a86b-7549b268fd53"
      },
      "source": [
        "print(len(entry_to_remove), len(doubtfull_entry))\n",
        "df_cleaned.drop(entry_to_remove, axis = 0, inplace = True)\n",
        "df_cleaned.drop(doubtfull_entry, axis = 0, inplace = True)"
      ],
      "execution_count": null,
      "outputs": [
        {
          "output_type": "stream",
          "text": [
            "7521 1226\n"
          ],
          "name": "stdout"
        }
      ]
    },
    {
      "cell_type": "markdown",
      "metadata": {
        "id": "L7RH2yeKFW-w"
      },
      "source": [
        "**Task**: show the remaining cancellations not counting discounts:"
      ]
    },
    {
      "cell_type": "code",
      "metadata": {
        "id": "3ZO9NStsFZQy",
        "colab": {
          "base_uri": "https://localhost:8080/",
          "height": 212
        },
        "outputId": "1e5d12dd-0d17-4100-9972-bd6dc56d96f6"
      },
      "source": [
        "remaining_entries = df_cleaned[(df_cleaned['Quantity'] < 0) & (df_cleaned['StockCode'] != 'D')]\n",
        "print(\"nb of entries to delete: {}\".format(remaining_entries.shape[0]))\n",
        "remaining_entries[:5]"
      ],
      "execution_count": null,
      "outputs": [
        {
          "output_type": "stream",
          "text": [
            "nb of entries to delete: 48\n"
          ],
          "name": "stdout"
        },
        {
          "output_type": "execute_result",
          "data": {
            "text/html": [
              "<div>\n",
              "<style scoped>\n",
              "    .dataframe tbody tr th:only-of-type {\n",
              "        vertical-align: middle;\n",
              "    }\n",
              "\n",
              "    .dataframe tbody tr th {\n",
              "        vertical-align: top;\n",
              "    }\n",
              "\n",
              "    .dataframe thead th {\n",
              "        text-align: right;\n",
              "    }\n",
              "</style>\n",
              "<table border=\"1\" class=\"dataframe\">\n",
              "  <thead>\n",
              "    <tr style=\"text-align: right;\">\n",
              "      <th></th>\n",
              "      <th>Unnamed: 0</th>\n",
              "      <th>InvoiceNo</th>\n",
              "      <th>StockCode</th>\n",
              "      <th>Description</th>\n",
              "      <th>Quantity</th>\n",
              "      <th>InvoiceDate</th>\n",
              "      <th>UnitPrice</th>\n",
              "      <th>CustomerID</th>\n",
              "      <th>Country</th>\n",
              "      <th>QuantityCanceled</th>\n",
              "    </tr>\n",
              "  </thead>\n",
              "  <tbody>\n",
              "    <tr>\n",
              "      <th>47994</th>\n",
              "      <td>77598</td>\n",
              "      <td>C542742</td>\n",
              "      <td>84535B</td>\n",
              "      <td>FAIRY CAKES NOTEBOOK A6 SIZE</td>\n",
              "      <td>-94</td>\n",
              "      <td>2011-01-31 16:26:00</td>\n",
              "      <td>0.65</td>\n",
              "      <td>15358</td>\n",
              "      <td>United Kingdom</td>\n",
              "      <td>0</td>\n",
              "    </tr>\n",
              "    <tr>\n",
              "      <th>57194</th>\n",
              "      <td>90444</td>\n",
              "      <td>C544038</td>\n",
              "      <td>22784</td>\n",
              "      <td>LANTERN CREAM GAZEBO</td>\n",
              "      <td>-4</td>\n",
              "      <td>2011-02-15 11:32:00</td>\n",
              "      <td>4.95</td>\n",
              "      <td>14659</td>\n",
              "      <td>United Kingdom</td>\n",
              "      <td>0</td>\n",
              "    </tr>\n",
              "    <tr>\n",
              "      <th>73515</th>\n",
              "      <td>111968</td>\n",
              "      <td>C545852</td>\n",
              "      <td>22464</td>\n",
              "      <td>HANGING METAL HEART LANTERN</td>\n",
              "      <td>-5</td>\n",
              "      <td>2011-03-07 13:49:00</td>\n",
              "      <td>1.65</td>\n",
              "      <td>14048</td>\n",
              "      <td>United Kingdom</td>\n",
              "      <td>0</td>\n",
              "    </tr>\n",
              "    <tr>\n",
              "      <th>76454</th>\n",
              "      <td>116064</td>\n",
              "      <td>C546191</td>\n",
              "      <td>47566B</td>\n",
              "      <td>TEA TIME PARTY BUNTING</td>\n",
              "      <td>-35</td>\n",
              "      <td>2011-03-10 10:57:00</td>\n",
              "      <td>0.70</td>\n",
              "      <td>16422</td>\n",
              "      <td>United Kingdom</td>\n",
              "      <td>0</td>\n",
              "    </tr>\n",
              "    <tr>\n",
              "      <th>88876</th>\n",
              "      <td>132642</td>\n",
              "      <td>C547675</td>\n",
              "      <td>22263</td>\n",
              "      <td>FELT EGG COSY LADYBIRD</td>\n",
              "      <td>-49</td>\n",
              "      <td>2011-03-24 14:07:00</td>\n",
              "      <td>0.66</td>\n",
              "      <td>17754</td>\n",
              "      <td>United Kingdom</td>\n",
              "      <td>0</td>\n",
              "    </tr>\n",
              "  </tbody>\n",
              "</table>\n",
              "</div>"
            ],
            "text/plain": [
              "       Unnamed: 0 InvoiceNo  ...         Country QuantityCanceled\n",
              "47994       77598   C542742  ...  United Kingdom                0\n",
              "57194       90444   C544038  ...  United Kingdom                0\n",
              "73515      111968   C545852  ...  United Kingdom                0\n",
              "76454      116064   C546191  ...  United Kingdom                0\n",
              "88876      132642   C547675  ...  United Kingdom                0\n",
              "\n",
              "[5 rows x 10 columns]"
            ]
          },
          "metadata": {
            "tags": []
          },
          "execution_count": 19
        }
      ]
    },
    {
      "cell_type": "markdown",
      "metadata": {
        "id": "8RTEhmQOFeVt"
      },
      "source": [
        "We can see that there is cases where the amount of cancelation is greater than the sum of previous purchases. However, we skip this and leave it like this."
      ]
    },
    {
      "cell_type": "code",
      "metadata": {
        "id": "XebkvVXJFgYJ",
        "colab": {
          "base_uri": "https://localhost:8080/",
          "height": 135
        },
        "outputId": "4f698051-c828-4ea1-e092-4425d53eff5e"
      },
      "source": [
        "df_cleaned[(df_cleaned['CustomerID'] == '14048') & (df_cleaned['StockCode'] == '22464')]\n",
        "#print(len(df_cleaned))"
      ],
      "execution_count": null,
      "outputs": [
        {
          "output_type": "execute_result",
          "data": {
            "text/html": [
              "<div>\n",
              "<style scoped>\n",
              "    .dataframe tbody tr th:only-of-type {\n",
              "        vertical-align: middle;\n",
              "    }\n",
              "\n",
              "    .dataframe tbody tr th {\n",
              "        vertical-align: top;\n",
              "    }\n",
              "\n",
              "    .dataframe thead th {\n",
              "        text-align: right;\n",
              "    }\n",
              "</style>\n",
              "<table border=\"1\" class=\"dataframe\">\n",
              "  <thead>\n",
              "    <tr style=\"text-align: right;\">\n",
              "      <th></th>\n",
              "      <th>Unnamed: 0</th>\n",
              "      <th>InvoiceNo</th>\n",
              "      <th>StockCode</th>\n",
              "      <th>Description</th>\n",
              "      <th>Quantity</th>\n",
              "      <th>InvoiceDate</th>\n",
              "      <th>UnitPrice</th>\n",
              "      <th>CustomerID</th>\n",
              "      <th>Country</th>\n",
              "      <th>QuantityCanceled</th>\n",
              "    </tr>\n",
              "  </thead>\n",
              "  <tbody>\n",
              "    <tr>\n",
              "      <th>52975</th>\n",
              "      <td>84247</td>\n",
              "      <td>543371</td>\n",
              "      <td>22464</td>\n",
              "      <td>HANGING METAL HEART LANTERN</td>\n",
              "      <td>3</td>\n",
              "      <td>2011-02-07 14:53:00</td>\n",
              "      <td>1.65</td>\n",
              "      <td>14048</td>\n",
              "      <td>United Kingdom</td>\n",
              "      <td>0</td>\n",
              "    </tr>\n",
              "    <tr>\n",
              "      <th>52987</th>\n",
              "      <td>84259</td>\n",
              "      <td>543371</td>\n",
              "      <td>22464</td>\n",
              "      <td>HANGING METAL HEART LANTERN</td>\n",
              "      <td>1</td>\n",
              "      <td>2011-02-07 14:53:00</td>\n",
              "      <td>1.65</td>\n",
              "      <td>14048</td>\n",
              "      <td>United Kingdom</td>\n",
              "      <td>0</td>\n",
              "    </tr>\n",
              "    <tr>\n",
              "      <th>73515</th>\n",
              "      <td>111968</td>\n",
              "      <td>C545852</td>\n",
              "      <td>22464</td>\n",
              "      <td>HANGING METAL HEART LANTERN</td>\n",
              "      <td>-5</td>\n",
              "      <td>2011-03-07 13:49:00</td>\n",
              "      <td>1.65</td>\n",
              "      <td>14048</td>\n",
              "      <td>United Kingdom</td>\n",
              "      <td>0</td>\n",
              "    </tr>\n",
              "  </tbody>\n",
              "</table>\n",
              "</div>"
            ],
            "text/plain": [
              "       Unnamed: 0 InvoiceNo  ...         Country QuantityCanceled\n",
              "52975       84247    543371  ...  United Kingdom                0\n",
              "52987       84259    543371  ...  United Kingdom                0\n",
              "73515      111968   C545852  ...  United Kingdom                0\n",
              "\n",
              "[3 rows x 10 columns]"
            ]
          },
          "metadata": {
            "tags": []
          },
          "execution_count": 21
        }
      ]
    },
    {
      "cell_type": "code",
      "metadata": {
        "id": "T0d5wtOE6AlX",
        "colab": {
          "base_uri": "https://localhost:8080/",
          "height": 35
        },
        "outputId": "2906e39d-1f62-4f39-dc85-653b9819ae9b"
      },
      "source": [
        "len(df_cleaned)"
      ],
      "execution_count": null,
      "outputs": [
        {
          "output_type": "execute_result",
          "data": {
            "text/plain": [
              "392857"
            ]
          },
          "metadata": {
            "tags": []
          },
          "execution_count": 25
        }
      ]
    },
    {
      "cell_type": "markdown",
      "metadata": {
        "id": "ehwfVjj6Fmb4"
      },
      "source": [
        "## 2.5) StockCode with letters\n",
        "\n",
        "As we have seen there are stockCode values which aren't numbers like 'D' for discount. \n",
        "Use regular expressions to investigate what other codes we have. \n",
        "Investigate dependence between these codes and `Description` feature."
      ]
    },
    {
      "cell_type": "code",
      "metadata": {
        "id": "XvBCi2ID-QK9",
        "colab": {
          "base_uri": "https://localhost:8080/"
        },
        "outputId": "7c5443d7-bb58-45ff-f375-c3b78d28bc1d"
      },
      "source": [
        "StockCodesAll = df_cleaned['StockCode'].unique()\n",
        "print(StockCodesAll[-100:-1])"
      ],
      "execution_count": null,
      "outputs": [
        {
          "output_type": "stream",
          "text": [
            "['23463' '23464' '23457' '23455' '23568' '23566' '23467' '23479' '23481'\n",
            " '23458' '23579' '23702' '23558' '23556' '23554' '23557' '23555' '23553'\n",
            " '23489' '23491' '23492' '23477' '23478' '23476' '23486' '23480' '23473'\n",
            " '23460' '23462' '23499' '23485' '90025F' '23570' '23454' '23571' '23569'\n",
            " '23305' '23474' '23582' '23583' '23581' '79157B' '23303' '23475' '23497'\n",
            " '23304' '23495' '23496' '47016' '23691' '90181A' '90199B' '90069'\n",
            " '90176A' '90176B' '23681' '72783' '90162A' '79161A' '23692' '23695'\n",
            " '23697' '90065B' '23598' '23597' '23664' '17191A' '35598C' '23694'\n",
            " '90083' '23442' '23449' '35598A' '23428' '84206B' '23430' '23429' '23441'\n",
            " '22125' '90130A' '90011A' '23440' '23552' '23498' '84550' '23578' '23580'\n",
            " '23575' '23560' '23576' '23562' '23561' '90214F' '90214O' '90214T'\n",
            " '90214U' '90214W' '90214Z' '90089']\n"
          ],
          "name": "stdout"
        }
      ]
    },
    {
      "cell_type": "code",
      "metadata": {
        "id": "jLvZU42WFvLc",
        "colab": {
          "base_uri": "https://localhost:8080/"
        },
        "outputId": "753df726-1165-4c17-c32b-62575e040fee"
      },
      "source": [
        "list_special_codes = df_cleaned[df_cleaned['StockCode'].str.contains('^[a-zA-Z]+', regex=True)]['StockCode'].unique()\n",
        "list_special_codes"
      ],
      "execution_count": null,
      "outputs": [
        {
          "output_type": "execute_result",
          "data": {
            "text/plain": [
              "array(['POST', 'D', 'C2', 'M', 'BANK CHARGES', 'PADS', 'DOT'],\n",
              "      dtype=object)"
            ]
          },
          "metadata": {
            "tags": []
          },
          "execution_count": 23
        }
      ]
    },
    {
      "cell_type": "code",
      "metadata": {
        "id": "KpMBpFOEF2P8",
        "colab": {
          "base_uri": "https://localhost:8080/"
        },
        "outputId": "2b5b0220-5fb8-49d4-b962-d009b88a45b8"
      },
      "source": [
        "for code in list_special_codes:\n",
        "    print(f\"{code} -> {df_cleaned[df_cleaned['StockCode'] == code]['Description'].unique()[0]}\")"
      ],
      "execution_count": null,
      "outputs": [
        {
          "output_type": "stream",
          "text": [
            "POST -> POSTAGE\n",
            "D -> Discount\n",
            "C2 -> CARRIAGE\n",
            "M -> Manual\n",
            "BANK CHARGES -> Bank Charges\n",
            "PADS -> PADS TO MATCH ALL CUSHIONS\n",
            "DOT -> DOTCOM POSTAGE\n"
          ],
          "name": "stdout"
        }
      ]
    },
    {
      "cell_type": "markdown",
      "metadata": {
        "id": "kO_L9jvzF7HX"
      },
      "source": [
        "## 2.6) Basket prices\n",
        "\n",
        "**Task**: create a variable `TotalPrice` for the dataframe, which is the total price for each line. Use `UnitPrice`, `Quantity` and `QuantityCanceled` features for this"
      ]
    },
    {
      "cell_type": "code",
      "metadata": {
        "id": "2aiARTk0F7WH",
        "colab": {
          "base_uri": "https://localhost:8080/",
          "height": 194
        },
        "outputId": "2d96940e-a9b0-49bb-d9f8-ee0ca697ab46"
      },
      "source": [
        "# price for each line\n",
        "df_cleaned['TotalPrice'] = df_cleaned['UnitPrice'] * (df_cleaned['Quantity'] - df_cleaned['QuantityCanceled'])\n",
        "df_cleaned.sort_values('CustomerID')[:5]"
      ],
      "execution_count": null,
      "outputs": [
        {
          "output_type": "execute_result",
          "data": {
            "text/html": [
              "<div>\n",
              "<style scoped>\n",
              "    .dataframe tbody tr th:only-of-type {\n",
              "        vertical-align: middle;\n",
              "    }\n",
              "\n",
              "    .dataframe tbody tr th {\n",
              "        vertical-align: top;\n",
              "    }\n",
              "\n",
              "    .dataframe thead th {\n",
              "        text-align: right;\n",
              "    }\n",
              "</style>\n",
              "<table border=\"1\" class=\"dataframe\">\n",
              "  <thead>\n",
              "    <tr style=\"text-align: right;\">\n",
              "      <th></th>\n",
              "      <th>Unnamed: 0</th>\n",
              "      <th>InvoiceNo</th>\n",
              "      <th>StockCode</th>\n",
              "      <th>Description</th>\n",
              "      <th>Quantity</th>\n",
              "      <th>InvoiceDate</th>\n",
              "      <th>UnitPrice</th>\n",
              "      <th>CustomerID</th>\n",
              "      <th>Country</th>\n",
              "      <th>QuantityCanceled</th>\n",
              "      <th>TotalPrice</th>\n",
              "    </tr>\n",
              "  </thead>\n",
              "  <tbody>\n",
              "    <tr>\n",
              "      <th>37511</th>\n",
              "      <td>61619</td>\n",
              "      <td>541431</td>\n",
              "      <td>23166</td>\n",
              "      <td>MEDIUM CERAMIC TOP STORAGE JAR</td>\n",
              "      <td>74215</td>\n",
              "      <td>2011-01-18 10:01:00</td>\n",
              "      <td>1.04</td>\n",
              "      <td>12346</td>\n",
              "      <td>United Kingdom</td>\n",
              "      <td>74215</td>\n",
              "      <td>0.0</td>\n",
              "    </tr>\n",
              "    <tr>\n",
              "      <th>100693</th>\n",
              "      <td>148288</td>\n",
              "      <td>549222</td>\n",
              "      <td>22375</td>\n",
              "      <td>AIRLINE BAG VINTAGE JET SET BROWN</td>\n",
              "      <td>4</td>\n",
              "      <td>2011-04-07 10:43:00</td>\n",
              "      <td>4.25</td>\n",
              "      <td>12347</td>\n",
              "      <td>Iceland</td>\n",
              "      <td>0</td>\n",
              "      <td>17.0</td>\n",
              "    </tr>\n",
              "    <tr>\n",
              "      <th>318798</th>\n",
              "      <td>428971</td>\n",
              "      <td>573511</td>\n",
              "      <td>22698</td>\n",
              "      <td>PINK REGENCY TEACUP AND SAUCER</td>\n",
              "      <td>12</td>\n",
              "      <td>2011-10-31 12:25:00</td>\n",
              "      <td>2.95</td>\n",
              "      <td>12347</td>\n",
              "      <td>Iceland</td>\n",
              "      <td>0</td>\n",
              "      <td>35.4</td>\n",
              "    </tr>\n",
              "    <tr>\n",
              "      <th>318797</th>\n",
              "      <td>428970</td>\n",
              "      <td>573511</td>\n",
              "      <td>47559B</td>\n",
              "      <td>TEA TIME OVEN GLOVE</td>\n",
              "      <td>10</td>\n",
              "      <td>2011-10-31 12:25:00</td>\n",
              "      <td>1.25</td>\n",
              "      <td>12347</td>\n",
              "      <td>Iceland</td>\n",
              "      <td>0</td>\n",
              "      <td>12.5</td>\n",
              "    </tr>\n",
              "    <tr>\n",
              "      <th>318796</th>\n",
              "      <td>428969</td>\n",
              "      <td>573511</td>\n",
              "      <td>47567B</td>\n",
              "      <td>TEA TIME KITCHEN APRON</td>\n",
              "      <td>6</td>\n",
              "      <td>2011-10-31 12:25:00</td>\n",
              "      <td>5.95</td>\n",
              "      <td>12347</td>\n",
              "      <td>Iceland</td>\n",
              "      <td>0</td>\n",
              "      <td>35.7</td>\n",
              "    </tr>\n",
              "  </tbody>\n",
              "</table>\n",
              "</div>"
            ],
            "text/plain": [
              "        Unnamed: 0 InvoiceNo  ... QuantityCanceled TotalPrice\n",
              "37511        61619    541431  ...            74215        0.0\n",
              "100693      148288    549222  ...                0       17.0\n",
              "318798      428971    573511  ...                0       35.4\n",
              "318797      428970    573511  ...                0       12.5\n",
              "318796      428969    573511  ...                0       35.7\n",
              "\n",
              "[5 rows x 11 columns]"
            ]
          },
          "metadata": {
            "tags": []
          },
          "execution_count": 25
        }
      ]
    },
    {
      "cell_type": "markdown",
      "metadata": {
        "id": "g6vI6-IQk0rq"
      },
      "source": [
        ""
      ]
    },
    {
      "cell_type": "markdown",
      "metadata": {
        "id": "PuOHcJUQHw3w"
      },
      "source": [
        "Each entry of the dataframe indicates prizes for a single kind of product, so an order are split on several lines. We collect all the commands during a single order (same InvoiceNo) to recover the total order prize. \n",
        "\n",
        "**Task**: save result in a dataframe `basket_price`. It should have features: `CustomerID`, `InvoiceNo`, `Basket Price` and `InvoiceDate`"
      ]
    },
    {
      "cell_type": "code",
      "metadata": {
        "id": "S_tblaLhHsZm",
        "colab": {
          "base_uri": "https://localhost:8080/",
          "height": 634
        },
        "outputId": "3cb819b2-2112-4973-e4d9-fe059d987abd"
      },
      "source": [
        "# sum the commands for each order\n",
        "temp = df_cleaned.groupby(by=['CustomerID', 'InvoiceNo'], as_index=False)['TotalPrice'].sum()\n",
        "basket_price = temp.rename(columns = {'TotalPrice':'Basket Price'})\n",
        "\n",
        "# command date\n",
        "df_cleaned['InvoiceDate'] = pd.to_datetime(df_cleaned['InvoiceDate'])\n",
        "df_cleaned['InvoiceDate_int'] = df_cleaned['InvoiceDate'].astype('int64')\n",
        "temp = df_cleaned.groupby(by=['CustomerID', 'InvoiceNo'], as_index=False)['InvoiceDate_int'].mean()\n",
        "df_cleaned.drop('InvoiceDate_int', axis = 1, inplace = True)\n",
        "basket_price.loc[:, 'InvoiceDate'] = pd.to_datetime(temp['InvoiceDate_int'])\n",
        "\n",
        "# keep only positive purchases\n",
        "basket_price = basket_price[basket_price['Basket Price'] > 0]\n",
        "basket_price.sort_values('CustomerID')[:20]"
      ],
      "execution_count": null,
      "outputs": [
        {
          "output_type": "execute_result",
          "data": {
            "text/html": [
              "<div>\n",
              "<style scoped>\n",
              "    .dataframe tbody tr th:only-of-type {\n",
              "        vertical-align: middle;\n",
              "    }\n",
              "\n",
              "    .dataframe tbody tr th {\n",
              "        vertical-align: top;\n",
              "    }\n",
              "\n",
              "    .dataframe thead th {\n",
              "        text-align: right;\n",
              "    }\n",
              "</style>\n",
              "<table border=\"1\" class=\"dataframe\">\n",
              "  <thead>\n",
              "    <tr style=\"text-align: right;\">\n",
              "      <th></th>\n",
              "      <th>CustomerID</th>\n",
              "      <th>InvoiceNo</th>\n",
              "      <th>Basket Price</th>\n",
              "      <th>InvoiceDate</th>\n",
              "    </tr>\n",
              "  </thead>\n",
              "  <tbody>\n",
              "    <tr>\n",
              "      <th>1</th>\n",
              "      <td>12347</td>\n",
              "      <td>537626</td>\n",
              "      <td>711.79</td>\n",
              "      <td>2010-12-07 14:57:00.000001024</td>\n",
              "    </tr>\n",
              "    <tr>\n",
              "      <th>2</th>\n",
              "      <td>12347</td>\n",
              "      <td>542237</td>\n",
              "      <td>475.39</td>\n",
              "      <td>2011-01-26 14:29:59.999999744</td>\n",
              "    </tr>\n",
              "    <tr>\n",
              "      <th>3</th>\n",
              "      <td>12347</td>\n",
              "      <td>549222</td>\n",
              "      <td>636.25</td>\n",
              "      <td>2011-04-07 10:42:59.999999232</td>\n",
              "    </tr>\n",
              "    <tr>\n",
              "      <th>4</th>\n",
              "      <td>12347</td>\n",
              "      <td>556201</td>\n",
              "      <td>382.52</td>\n",
              "      <td>2011-06-09 13:01:00.000000256</td>\n",
              "    </tr>\n",
              "    <tr>\n",
              "      <th>5</th>\n",
              "      <td>12347</td>\n",
              "      <td>562032</td>\n",
              "      <td>584.91</td>\n",
              "      <td>2011-08-02 08:48:00.000000000</td>\n",
              "    </tr>\n",
              "    <tr>\n",
              "      <th>6</th>\n",
              "      <td>12347</td>\n",
              "      <td>573511</td>\n",
              "      <td>1294.32</td>\n",
              "      <td>2011-10-31 12:25:00.000001280</td>\n",
              "    </tr>\n",
              "    <tr>\n",
              "      <th>7</th>\n",
              "      <td>12347</td>\n",
              "      <td>581180</td>\n",
              "      <td>224.82</td>\n",
              "      <td>2011-12-07 15:52:00.000000000</td>\n",
              "    </tr>\n",
              "    <tr>\n",
              "      <th>8</th>\n",
              "      <td>12348</td>\n",
              "      <td>539318</td>\n",
              "      <td>892.80</td>\n",
              "      <td>2010-12-16 19:09:00.000000000</td>\n",
              "    </tr>\n",
              "    <tr>\n",
              "      <th>9</th>\n",
              "      <td>12348</td>\n",
              "      <td>541998</td>\n",
              "      <td>227.44</td>\n",
              "      <td>2011-01-25 10:42:00.000000000</td>\n",
              "    </tr>\n",
              "    <tr>\n",
              "      <th>10</th>\n",
              "      <td>12348</td>\n",
              "      <td>548955</td>\n",
              "      <td>367.00</td>\n",
              "      <td>2011-04-05 10:47:00.000000000</td>\n",
              "    </tr>\n",
              "    <tr>\n",
              "      <th>11</th>\n",
              "      <td>12348</td>\n",
              "      <td>568172</td>\n",
              "      <td>310.00</td>\n",
              "      <td>2011-09-25 13:13:00.000000000</td>\n",
              "    </tr>\n",
              "    <tr>\n",
              "      <th>12</th>\n",
              "      <td>12349</td>\n",
              "      <td>577609</td>\n",
              "      <td>1757.55</td>\n",
              "      <td>2011-11-21 09:51:00.000000256</td>\n",
              "    </tr>\n",
              "    <tr>\n",
              "      <th>13</th>\n",
              "      <td>12350</td>\n",
              "      <td>543037</td>\n",
              "      <td>334.40</td>\n",
              "      <td>2011-02-02 16:01:00.000000000</td>\n",
              "    </tr>\n",
              "    <tr>\n",
              "      <th>21</th>\n",
              "      <td>12352</td>\n",
              "      <td>574275</td>\n",
              "      <td>311.73</td>\n",
              "      <td>2011-11-03 14:36:59.999999744</td>\n",
              "    </tr>\n",
              "    <tr>\n",
              "      <th>20</th>\n",
              "      <td>12352</td>\n",
              "      <td>568699</td>\n",
              "      <td>266.25</td>\n",
              "      <td>2011-09-28 14:58:00.000000000</td>\n",
              "    </tr>\n",
              "    <tr>\n",
              "      <th>18</th>\n",
              "      <td>12352</td>\n",
              "      <td>547390</td>\n",
              "      <td>160.33</td>\n",
              "      <td>2011-03-22 16:08:00.000000000</td>\n",
              "    </tr>\n",
              "    <tr>\n",
              "      <th>19</th>\n",
              "      <td>12352</td>\n",
              "      <td>567505</td>\n",
              "      <td>366.25</td>\n",
              "      <td>2011-09-20 14:34:00.000000000</td>\n",
              "    </tr>\n",
              "    <tr>\n",
              "      <th>15</th>\n",
              "      <td>12352</td>\n",
              "      <td>545323</td>\n",
              "      <td>144.35</td>\n",
              "      <td>2011-03-01 14:57:00.000000000</td>\n",
              "    </tr>\n",
              "    <tr>\n",
              "      <th>14</th>\n",
              "      <td>12352</td>\n",
              "      <td>544156</td>\n",
              "      <td>296.50</td>\n",
              "      <td>2011-02-16 12:32:59.999999744</td>\n",
              "    </tr>\n",
              "    <tr>\n",
              "      <th>16</th>\n",
              "      <td>12352</td>\n",
              "      <td>545332</td>\n",
              "      <td>840.30</td>\n",
              "      <td>2011-03-01 15:52:00.000000000</td>\n",
              "    </tr>\n",
              "  </tbody>\n",
              "</table>\n",
              "</div>"
            ],
            "text/plain": [
              "   CustomerID InvoiceNo  Basket Price                   InvoiceDate\n",
              "1       12347    537626        711.79 2010-12-07 14:57:00.000001024\n",
              "2       12347    542237        475.39 2011-01-26 14:29:59.999999744\n",
              "3       12347    549222        636.25 2011-04-07 10:42:59.999999232\n",
              "4       12347    556201        382.52 2011-06-09 13:01:00.000000256\n",
              "5       12347    562032        584.91 2011-08-02 08:48:00.000000000\n",
              "6       12347    573511       1294.32 2011-10-31 12:25:00.000001280\n",
              "7       12347    581180        224.82 2011-12-07 15:52:00.000000000\n",
              "8       12348    539318        892.80 2010-12-16 19:09:00.000000000\n",
              "9       12348    541998        227.44 2011-01-25 10:42:00.000000000\n",
              "10      12348    548955        367.00 2011-04-05 10:47:00.000000000\n",
              "11      12348    568172        310.00 2011-09-25 13:13:00.000000000\n",
              "12      12349    577609       1757.55 2011-11-21 09:51:00.000000256\n",
              "13      12350    543037        334.40 2011-02-02 16:01:00.000000000\n",
              "21      12352    574275        311.73 2011-11-03 14:36:59.999999744\n",
              "20      12352    568699        266.25 2011-09-28 14:58:00.000000000\n",
              "18      12352    547390        160.33 2011-03-22 16:08:00.000000000\n",
              "19      12352    567505        366.25 2011-09-20 14:34:00.000000000\n",
              "15      12352    545323        144.35 2011-03-01 14:57:00.000000000\n",
              "14      12352    544156        296.50 2011-02-16 12:32:59.999999744\n",
              "16      12352    545332        840.30 2011-03-01 15:52:00.000000000"
            ]
          },
          "metadata": {
            "tags": []
          },
          "execution_count": 32
        }
      ]
    },
    {
      "cell_type": "markdown",
      "metadata": {
        "id": "R5Fo9cgfJlTQ"
      },
      "source": [
        "Purchases can be divided according to total prizes, run the code:"
      ]
    },
    {
      "cell_type": "code",
      "metadata": {
        "id": "dj8IOR31JlmC",
        "colab": {
          "base_uri": "https://localhost:8080/",
          "height": 854
        },
        "outputId": "60aa5181-c049-482f-e41d-1a300067bdb3"
      },
      "source": [
        "import matplotlib.pyplot as plt\n",
        "\n",
        "# Define price ranges\n",
        "price_range = [0, 50, 100, 200, 500, 1000, 5000, 50000]\n",
        "count_price = []\n",
        "for i, price in enumerate(price_range):\n",
        "    if i == 0: continue\n",
        "    val = basket_price[(basket_price['Basket Price'] < price) &\n",
        "                       (basket_price['Basket Price'] > price_range[i-1])]['Basket Price'].count()\n",
        "    count_price.append(val)\n",
        "\n",
        "# Distribution of order amounts    \n",
        "plt.rc('font', weight='bold')\n",
        "f, ax = plt.subplots(figsize=(11, 6))\n",
        "colors = ['yellowgreen', 'gold', 'wheat', 'c', 'violet', 'royalblue','firebrick']\n",
        "labels = [ '{}<.<{}'.format(price_range[i-1], s) for i,s in enumerate(price_range) if i != 0]\n",
        "sizes  = count_price\n",
        "explode = [0.0 if sizes[i] < 100 else 0.0 for i in range(len(sizes))]\n",
        "ax.pie(sizes, explode = explode, labels=labels, colors = colors,\n",
        "       autopct = lambda x:'{:1.0f}%'.format(x) if x > 1 else '',\n",
        "       shadow = False, startangle=0)\n",
        "ax.axis('equal')\n",
        "f.text(0.5, 1.01, \"Distribution of order amounts\", ha='center', fontsize = 18);\n",
        "\n",
        "# Distribution of order amounts    \n",
        "plt.rc('font', weight='bold')\n",
        "f, ax = plt.subplots(figsize=(11, 6))\n",
        "ax.hist(basket_price['Basket Price'][basket_price['Basket Price']<5000].values, bins=500)\n",
        "ax.axvline(x=basket_price['Basket Price'].mean(), color='k', linestyle='--', label='Average price')\n",
        "ax.legend()\n",
        "f.text(0.5, 1.01, \"Distribution of order amounts\", ha='center', fontsize = 18);"
      ],
      "execution_count": null,
      "outputs": [
        {
          "output_type": "display_data",
          "data": {
            "image/png": "[encoded data removed]",
            "text/plain": [
              "<Figure size 792x432 with 1 Axes>"
            ]
          },
          "metadata": {
            "tags": []
          }
        },
        {
          "output_type": "display_data",
          "data": {
            "image/png": "[encoded data removed]",
            "text/plain": [
              "<Figure size 792x432 with 1 Axes>"
            ]
          },
          "metadata": {
            "tags": [],
            "needs_background": "light"
          }
        }
      ]
    },
    {
      "cell_type": "markdown",
      "metadata": {
        "id": "OQMsACwlJq2J"
      },
      "source": [
        "## 2.7) Save data\n",
        "Save preprocessed data to the file `data_cleaned.csv` and `basket_price.csv`"
      ]
    },
    {
      "cell_type": "code",
      "metadata": {
        "id": "YyBebCWcJ1tC"
      },
      "source": [
        "df_cleaned.to_csv(relative_path + 'data_cleaned.csv')\n",
        "basket_price.to_csv(relative_path + 'basket_price.csv')"
      ],
      "execution_count": null,
      "outputs": []
    }
  ]
}