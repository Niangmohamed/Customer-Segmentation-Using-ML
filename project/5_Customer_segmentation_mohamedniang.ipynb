{
  "nbformat": 4,
  "nbformat_minor": 0,
  "metadata": {
    "colab": {
      "name": "5_Customer_segmentation_mohamedniang.ipynb",
      "provenance": [],
      "collapsed_sections": []
    },
    "kernelspec": {
      "name": "python3",
      "display_name": "Python 3"
    }
  },
  "cells": [
    {
      "cell_type": "markdown",
      "metadata": {
        "id": "lVpq08B7v485"
      },
      "source": [
        "#5) Classification of customers\n",
        "\n",
        "In this section we try to classify customers to the above clusters using some features 'mean', 'categ_0', 'categ_1', 'categ_2', 'categ_3', 'categ_4'. Thus, we can use our models to classify a customer at the first purchase.\n"
      ]
    },
    {
      "cell_type": "code",
      "metadata": {
        "id": "F7KR6Jeoxcg_"
      },
      "source": [
        "import pandas as pd\n",
        "from google.colab import drive\n",
        "drive.mount('/content/drive')\n",
        "relative_path = '/content/drive/My Drive/Customer Segmentation/Data/'\n",
        "selected_customers = pd.read_csv(relative_path + 'data_selected_customers.csv')"
      ],
      "execution_count": null,
      "outputs": []
    },
    {
      "cell_type": "code",
      "metadata": {
        "id": "8BH59QssbwKi"
      },
      "source": [
        "import warnings\n",
        "warnings.filterwarnings('ignore') "
      ],
      "execution_count": null,
      "outputs": []
    },
    {
      "cell_type": "markdown",
      "metadata": {
        "id": "xgrHhluZwAwZ"
      },
      "source": [
        "We first build a class `Class_Fit` to manage classifier."
      ]
    },
    {
      "cell_type": "code",
      "metadata": {
        "id": "LbhsvHh3vvp5"
      },
      "source": [
        "class Class_Fit:\n",
        "    def __init__(self, clf, params=None):\n",
        "        if params:            \n",
        "            self.clf = clf(**params)\n",
        "        else:\n",
        "            self.clf = clf()\n",
        "\n",
        "    def train(self, x_train, y_train):\n",
        "        self.clf.fit(x_train, y_train)\n",
        "\n",
        "    def predict(self, x):\n",
        "        return self.clf.predict(x)\n",
        "    \n",
        "    def grid_search(self, parameters, Kfold):\n",
        "        self.grid = GridSearchCV(estimator = self.clf, param_grid = parameters, cv = Kfold)\n",
        "        \n",
        "    def grid_fit(self, X, Y):\n",
        "        self.grid.fit(X, Y)\n",
        "        \n",
        "    def grid_predict(self, X, Y):\n",
        "        self.predictions = self.grid.predict(X)\n",
        "        print(\"Precision: {:.2f} % \".format(100*metrics.accuracy_score(Y, self.predictions)))\n",
        "        "
      ],
      "execution_count": null,
      "outputs": []
    },
    {
      "cell_type": "markdown",
      "metadata": {
        "id": "Nd5uL1D9wSjW"
      },
      "source": [
        "##5.1) Prepare train and validation data "
      ]
    },
    {
      "cell_type": "code",
      "metadata": {
        "id": "Mu0g7vl2wEL6"
      },
      "source": [
        "columns = ['mean', 'categ_0', 'categ_1', 'categ_2', 'categ_3', 'categ_4' ]\n",
        "X = selected_customers[columns]\n",
        "Y = selected_customers['cluster']"
      ],
      "execution_count": null,
      "outputs": []
    },
    {
      "cell_type": "code",
      "metadata": {
        "id": "HRBF6jtmxo1t"
      },
      "source": [
        "from sklearn.model_selection import train_test_split\n",
        "X_train, X_test, Y_train, Y_test = train_test_split(X, Y, train_size = 0.8)"
      ],
      "execution_count": null,
      "outputs": []
    },
    {
      "cell_type": "code",
      "metadata": {
        "id": "NpiODyIRxu2-",
        "colab": {
          "base_uri": "https://localhost:8080/",
          "height": 121
        },
        "outputId": "1e1245f3-2738-41bb-d253-03dc37a06100"
      },
      "source": [
        "Y_train.head()"
      ],
      "execution_count": null,
      "outputs": [
        {
          "output_type": "execute_result",
          "data": {
            "text/plain": [
              "1951    7\n",
              "3255    0\n",
              "4127    8\n",
              "978     8\n",
              "2414    8\n",
              "Name: cluster, dtype: int64"
            ]
          },
          "metadata": {
            "tags": []
          },
          "execution_count": 6
        }
      ]
    },
    {
      "cell_type": "code",
      "metadata": {
        "id": "hfAkt5y9xyZc",
        "colab": {
          "base_uri": "https://localhost:8080/",
          "height": 202
        },
        "outputId": "9358eb91-2f70-4eb6-e214-949f1f7dd2c9"
      },
      "source": [
        "X_train.head()"
      ],
      "execution_count": null,
      "outputs": [
        {
          "output_type": "execute_result",
          "data": {
            "text/html": [
              "<div>\n",
              "<style scoped>\n",
              "    .dataframe tbody tr th:only-of-type {\n",
              "        vertical-align: middle;\n",
              "    }\n",
              "\n",
              "    .dataframe tbody tr th {\n",
              "        vertical-align: top;\n",
              "    }\n",
              "\n",
              "    .dataframe thead th {\n",
              "        text-align: right;\n",
              "    }\n",
              "</style>\n",
              "<table border=\"1\" class=\"dataframe\">\n",
              "  <thead>\n",
              "    <tr style=\"text-align: right;\">\n",
              "      <th></th>\n",
              "      <th>mean</th>\n",
              "      <th>categ_0</th>\n",
              "      <th>categ_1</th>\n",
              "      <th>categ_2</th>\n",
              "      <th>categ_3</th>\n",
              "      <th>categ_4</th>\n",
              "    </tr>\n",
              "  </thead>\n",
              "  <tbody>\n",
              "    <tr>\n",
              "      <th>1951</th>\n",
              "      <td>1488.033333</td>\n",
              "      <td>0.534262</td>\n",
              "      <td>86.729688</td>\n",
              "      <td>12.736050</td>\n",
              "      <td>0.000000</td>\n",
              "      <td>0.000000</td>\n",
              "    </tr>\n",
              "    <tr>\n",
              "      <th>3255</th>\n",
              "      <td>243.840000</td>\n",
              "      <td>6.971785</td>\n",
              "      <td>24.606299</td>\n",
              "      <td>21.817585</td>\n",
              "      <td>20.767717</td>\n",
              "      <td>25.836614</td>\n",
              "    </tr>\n",
              "    <tr>\n",
              "      <th>4127</th>\n",
              "      <td>174.800000</td>\n",
              "      <td>64.759725</td>\n",
              "      <td>0.000000</td>\n",
              "      <td>26.887872</td>\n",
              "      <td>4.061785</td>\n",
              "      <td>4.290618</td>\n",
              "    </tr>\n",
              "    <tr>\n",
              "      <th>978</th>\n",
              "      <td>124.260000</td>\n",
              "      <td>43.457267</td>\n",
              "      <td>0.000000</td>\n",
              "      <td>32.641236</td>\n",
              "      <td>0.000000</td>\n",
              "      <td>23.901497</td>\n",
              "    </tr>\n",
              "    <tr>\n",
              "      <th>2414</th>\n",
              "      <td>218.566667</td>\n",
              "      <td>45.058716</td>\n",
              "      <td>2.333384</td>\n",
              "      <td>19.063596</td>\n",
              "      <td>4.209242</td>\n",
              "      <td>29.335062</td>\n",
              "    </tr>\n",
              "  </tbody>\n",
              "</table>\n",
              "</div>"
            ],
            "text/plain": [
              "             mean    categ_0    categ_1    categ_2    categ_3    categ_4\n",
              "1951  1488.033333   0.534262  86.729688  12.736050   0.000000   0.000000\n",
              "3255   243.840000   6.971785  24.606299  21.817585  20.767717  25.836614\n",
              "4127   174.800000  64.759725   0.000000  26.887872   4.061785   4.290618\n",
              "978    124.260000  43.457267   0.000000  32.641236   0.000000  23.901497\n",
              "2414   218.566667  45.058716   2.333384  19.063596   4.209242  29.335062"
            ]
          },
          "metadata": {
            "tags": []
          },
          "execution_count": 7
        }
      ]
    },
    {
      "cell_type": "markdown",
      "metadata": {
        "id": "xcbplt4rx_ZY"
      },
      "source": [
        "## 5.2) SVM classifier\n",
        "\n",
        "Here we build an SVM classifier. Use GridSearchCV with logariphmic scale from 0.01 to 100. For Cross-Validation use 5 folds."
      ]
    },
    {
      "cell_type": "code",
      "metadata": {
        "id": "4OLZOm-Dx34k"
      },
      "source": [
        "import numpy as np\n",
        "from sklearn import svm\n",
        "from sklearn.model_selection import GridSearchCV\n",
        "import matplotlib.pyplot as plt\n",
        "\n",
        "svc = Class_Fit(clf = svm.LinearSVC, params={'max_iter':100})\n",
        "svc.grid_search(parameters = [{'C':np.logspace(-2,2,20)}], Kfold = 5)\n",
        "# to do - fix number of iterations"
      ],
      "execution_count": null,
      "outputs": []
    },
    {
      "cell_type": "code",
      "metadata": {
        "id": "yIvSh561yET4"
      },
      "source": [
        "from sklearn import metrics\n",
        "svc.grid_fit(X = X_train, Y = Y_train)\n",
        "#output is too big, try to supress it"
      ],
      "execution_count": null,
      "outputs": []
    },
    {
      "cell_type": "code",
      "metadata": {
        "id": "TGpvyvB4yL1E",
        "colab": {
          "base_uri": "https://localhost:8080/",
          "height": 35
        },
        "outputId": "84bd4e1e-d3a8-44e9-90fe-cbddb1dfb5ec"
      },
      "source": [
        " svc.grid_predict(X_test, Y_test)"
      ],
      "execution_count": null,
      "outputs": [
        {
          "output_type": "stream",
          "text": [
            "Precision: 59.24 % \n"
          ],
          "name": "stdout"
        }
      ]
    },
    {
      "cell_type": "code",
      "metadata": {
        "id": "7AyS2mhRygH5"
      },
      "source": [
        "# function to plot learning curves\n",
        "def plot_learning_curve(estimator, title, X, y, ylim=None, cv=None,\n",
        "                        n_jobs=-1, train_sizes=np.linspace(.1, 1.0, 10)):\n",
        "    \"\"\"Generate a simple plot of the test and training learning curve\"\"\"\n",
        "    plt.figure()\n",
        "    plt.title(title)\n",
        "    if ylim is not None:\n",
        "        plt.ylim(*ylim)\n",
        "    plt.xlabel(\"Training examples\")\n",
        "    plt.ylabel(\"Score\")\n",
        "    train_sizes, train_scores, test_scores = learning_curve(\n",
        "        estimator, X, y, cv=cv, n_jobs=n_jobs, train_sizes=train_sizes)\n",
        "    train_scores_mean = np.mean(train_scores, axis=1)\n",
        "    train_scores_std = np.std(train_scores, axis=1)\n",
        "    test_scores_mean = np.mean(test_scores, axis=1)\n",
        "    test_scores_std = np.std(test_scores, axis=1)\n",
        "    plt.grid()\n",
        "\n",
        "    plt.fill_between(train_sizes, train_scores_mean - train_scores_std,\n",
        "                     train_scores_mean + train_scores_std, alpha=0.1, color=\"r\")\n",
        "    plt.fill_between(train_sizes, test_scores_mean - test_scores_std,\n",
        "                     test_scores_mean + test_scores_std, alpha=0.1, color=\"g\")\n",
        "    plt.plot(train_sizes, train_scores_mean, 'o-', color=\"r\", label=\"Training score\")\n",
        "    plt.plot(train_sizes, test_scores_mean, 'o-', color=\"g\", label=\"Cross-validation score\")\n",
        "\n",
        "    plt.legend(loc=\"best\")\n",
        "    return plt"
      ],
      "execution_count": null,
      "outputs": []
    },
    {
      "cell_type": "code",
      "metadata": {
        "id": "LyOVz9IvyuF-",
        "colab": {
          "base_uri": "https://localhost:8080/",
          "height": 295
        },
        "outputId": "7d532156-2109-402b-f4fc-5f55a075141d"
      },
      "source": [
        "from sklearn.model_selection import learning_curve\n",
        "from sklearn.model_selection import GridSearchCV\n",
        "\n",
        "# plot learning curves\n",
        "g = plot_learning_curve(svc.grid.best_estimator_,\n",
        "                        \"SVC learning curves\", X_train, Y_train, ylim = [0.6, 1.01],\n",
        "                        cv = 5,  train_sizes = [0.05, 0.1, 0.2, 0.3, 0.4, 0.5,\n",
        "                                                0.6, 0.7, 0.8, 0.9, 1])\n",
        "\n"
      ],
      "execution_count": null,
      "outputs": [
        {
          "output_type": "display_data",
          "data": {
            "image/png": "[encoded data removed]",
            "text/plain": [
              "<Figure size 432x288 with 1 Axes>"
            ]
          },
          "metadata": {
            "tags": [],
            "needs_background": "light"
          }
        }
      ]
    },
    {
      "cell_type": "markdown",
      "metadata": {
        "id": "h14hOniP_L5N"
      },
      "source": [
        "## 5.3) Logistic regression\n",
        "\n",
        "**Task:** Similarly, build a logistic regression using `Class_Fit`, use grid search to train. Then compute the test precision and plot learning curves."
      ]
    },
    {
      "cell_type": "code",
      "metadata": {
        "id": "KTMYWHJV_OvK"
      },
      "source": [
        "from sklearn.linear_model import LogisticRegression\n",
        "lr = Class_Fit(clf = LogisticRegression, params={'solver':'lbfgs', 'multi_class':'auto', 'max_iter':300})\n",
        "lr.grid_search(parameters={'C':np.logspace(-2,2,10)}, Kfold=5)"
      ],
      "execution_count": null,
      "outputs": []
    },
    {
      "cell_type": "code",
      "metadata": {
        "id": "fgxRHyGr_VAj"
      },
      "source": [
        "lr.grid_fit(X_train, Y_train)"
      ],
      "execution_count": null,
      "outputs": []
    },
    {
      "cell_type": "code",
      "metadata": {
        "id": "0wpV7aiH_Xse",
        "colab": {
          "base_uri": "https://localhost:8080/",
          "height": 35
        },
        "outputId": "ee86b9c6-ca06-4a02-ec33-853e9205ba9d"
      },
      "source": [
        "lr.grid.best_params_ "
      ],
      "execution_count": null,
      "outputs": [
        {
          "output_type": "execute_result",
          "data": {
            "text/plain": [
              "{'C': 0.027825594022071243}"
            ]
          },
          "metadata": {
            "tags": []
          },
          "execution_count": 15
        }
      ]
    },
    {
      "cell_type": "code",
      "metadata": {
        "id": "KnJLGxY8DqR9",
        "colab": {
          "base_uri": "https://localhost:8080/",
          "height": 35
        },
        "outputId": "34e36038-e991-4f92-94ad-fe9d41332ec3"
      },
      "source": [
        "lr.grid_predict(X_test, Y_test)"
      ],
      "execution_count": null,
      "outputs": [
        {
          "output_type": "stream",
          "text": [
            "Precision: 89.49 % \n"
          ],
          "name": "stdout"
        }
      ]
    },
    {
      "cell_type": "code",
      "metadata": {
        "id": "8e2QxCs4Dvhv",
        "colab": {
          "base_uri": "https://localhost:8080/",
          "height": 104
        },
        "outputId": "271d112d-844d-4e58-e9d9-7b175e0648a6"
      },
      "source": [
        "lr.grid.best_estimator_"
      ],
      "execution_count": null,
      "outputs": [
        {
          "output_type": "execute_result",
          "data": {
            "text/plain": [
              "LogisticRegression(C=0.027825594022071243, class_weight=None, dual=False,\n",
              "                   fit_intercept=True, intercept_scaling=1, l1_ratio=None,\n",
              "                   max_iter=300, multi_class='auto', n_jobs=None, penalty='l2',\n",
              "                   random_state=None, solver='lbfgs', tol=0.0001, verbose=0,\n",
              "                   warm_start=False)"
            ]
          },
          "metadata": {
            "tags": []
          },
          "execution_count": 17
        }
      ]
    },
    {
      "cell_type": "code",
      "metadata": {
        "id": "qIRaT-Mr6ci0"
      },
      "source": [
        ""
      ],
      "execution_count": null,
      "outputs": []
    },
    {
      "cell_type": "code",
      "metadata": {
        "id": "6YdS_pF9D0Uh",
        "colab": {
          "base_uri": "https://localhost:8080/",
          "height": 295
        },
        "outputId": "c8004629-3735-4868-8fe5-4b8bffdf17d0"
      },
      "source": [
        "g2 = plot_learning_curve(lr.grid.best_estimator_,\n",
        "                        \"LR learning curves\", X_train, Y_train, ylim = [0.6, 1.01],\n",
        "                         cv = 5,  train_sizes = [0.05, 0.1, 0.2, 0.3, 0.4, 0.5,\n",
        "                                                 0.6, 0.7, 0.8, 0.9, 1])"
      ],
      "execution_count": null,
      "outputs": [
        {
          "output_type": "display_data",
          "data": {
            "image/png": "[encoded data removed]",
            "text/plain": [
              "<Figure size 432x288 with 1 Axes>"
            ]
          },
          "metadata": {
            "tags": [],
            "needs_background": "light"
          }
        }
      ]
    },
    {
      "cell_type": "markdown",
      "metadata": {
        "id": "ID8qc8CGgaov"
      },
      "source": [
        "## 5.4) k-nearest neighbors\n",
        "\n",
        "**Task:** Build a knn using `Class_Fit`, use grid search to train. Then compute the test precision and plot learning curves.\n"
      ]
    },
    {
      "cell_type": "code",
      "metadata": {
        "id": "b20jQO7oU_CE"
      },
      "source": [
        "from sklearn.neighbors import KNeighborsClassifier\n",
        "\n",
        "knn = Class_Fit(clf = KNeighborsClassifier, params=None)\n",
        "knn.grid_search(parameters={'n_neighbors':np.concatenate((np.arange(1,10,1),\n",
        "                                                          np.arange(10,40,5),\n",
        "                                                          np.arange(40,80,10)))},\n",
        "                Kfold=5)\n",
        "knn.grid_fit(X_train, Y_train)"
      ],
      "execution_count": null,
      "outputs": []
    },
    {
      "cell_type": "code",
      "metadata": {
        "id": "w9vPclI0vvAA"
      },
      "source": [
        ""
      ],
      "execution_count": null,
      "outputs": []
    },
    {
      "cell_type": "code",
      "metadata": {
        "id": "CAP8EF2Fgfd3",
        "colab": {
          "base_uri": "https://localhost:8080/",
          "height": 35
        },
        "outputId": "6f6719e9-4931-46a4-d9dc-2604876a4e88"
      },
      "source": [
        "knn.grid_predict(X_test, Y_test)"
      ],
      "execution_count": null,
      "outputs": [
        {
          "output_type": "stream",
          "text": [
            "Precision: 82.56 % \n"
          ],
          "name": "stdout"
        }
      ]
    },
    {
      "cell_type": "code",
      "metadata": {
        "id": "K5N2B1fAh5Sj",
        "colab": {
          "base_uri": "https://localhost:8080/",
          "height": 35
        },
        "outputId": "58d810d6-7cd0-4e81-b251-ebaab15e4c34"
      },
      "source": [
        "knn.grid.best_params_"
      ],
      "execution_count": null,
      "outputs": [
        {
          "output_type": "execute_result",
          "data": {
            "text/plain": [
              "{'n_neighbors': 6}"
            ]
          },
          "metadata": {
            "tags": []
          },
          "execution_count": 21
        }
      ]
    },
    {
      "cell_type": "code",
      "metadata": {
        "id": "7KmSQjKPh7tL",
        "colab": {
          "base_uri": "https://localhost:8080/",
          "height": 313
        },
        "outputId": "76342fbb-5f55-4a11-c858-a665d0beec07"
      },
      "source": [
        "plot_learning_curve(knn.grid.best_estimator_, 'KNN learning curves', X_train, Y_train, ylim=[0.6, 1.01],\n",
        "                   train_sizes=[0.05, 0.1, 0.2, 0.3, 0.4, 0.5, 0.6, 0.7, 0.8, 0.9, 1])"
      ],
      "execution_count": null,
      "outputs": [
        {
          "output_type": "execute_result",
          "data": {
            "text/plain": [
              "<module 'matplotlib.pyplot' from '/usr/local/lib/python3.6/dist-packages/matplotlib/pyplot.py'>"
            ]
          },
          "metadata": {
            "tags": []
          },
          "execution_count": 22
        },
        {
          "output_type": "display_data",
          "data": {
            "image/png": "[encoded data removed]",
            "text/plain": [
              "<Figure size 432x288 with 1 Axes>"
            ]
          },
          "metadata": {
            "tags": []
          }
        }
      ]
    },
    {
      "cell_type": "markdown",
      "metadata": {
        "id": "22FCzOyQiFKJ"
      },
      "source": [
        "## 5.5) Decision tree\n",
        "\n",
        "**Task:** Build a decision tree using `Class_Fit`, use grid search to train. Then compute the test precision and plot learning curves."
      ]
    },
    {
      "cell_type": "code",
      "metadata": {
        "id": "GSElju8sh-pK"
      },
      "source": [
        "from sklearn.tree import DecisionTreeClassifier\n",
        "\n",
        "dt = Class_Fit(clf=DecisionTreeClassifier, params=None)\n",
        "dt.grid_search(parameters={'min_samples_leaf':np.concatenate((np.arange(1,5,1),\n",
        "                                                              np.arange(5,25,5),\n",
        "                                                              np.arange(25,55,10),\n",
        "                                                              np.arange(55,200,20)))},\n",
        "               Kfold=5)\n",
        "dt.grid_fit(X_train, Y_train)"
      ],
      "execution_count": null,
      "outputs": []
    },
    {
      "cell_type": "code",
      "metadata": {
        "id": "FyUSI0ePxluI",
        "colab": {
          "base_uri": "https://localhost:8080/",
          "height": 52
        },
        "outputId": "6eca6079-795c-45b1-8fb1-b9d939325b31"
      },
      "source": [
        "np.concatenate((np.arange(1,5,1),\n",
        "                                                              np.arange(5,25,5),\n",
        "                                                              np.arange(25,55,10),\n",
        "                                                              np.arange(55,200,20)))"
      ],
      "execution_count": null,
      "outputs": [
        {
          "output_type": "execute_result",
          "data": {
            "text/plain": [
              "array([  1,   2,   3,   4,   5,  10,  15,  20,  25,  35,  45,  55,  75,\n",
              "        95, 115, 135, 155, 175, 195])"
            ]
          },
          "metadata": {
            "tags": []
          },
          "execution_count": 24
        }
      ]
    },
    {
      "cell_type": "code",
      "metadata": {
        "id": "qDI5tFKmiJpl",
        "colab": {
          "base_uri": "https://localhost:8080/",
          "height": 69
        },
        "outputId": "4402ac8e-f1ea-44c1-9668-85e13fde9693"
      },
      "source": [
        "print(dt.grid.best_params_)\n",
        "print(dt.grid_predict(X_test, Y_test))"
      ],
      "execution_count": null,
      "outputs": [
        {
          "output_type": "stream",
          "text": [
            "{'min_samples_leaf': 15}\n",
            "Precision: 89.49 % \n",
            "None\n"
          ],
          "name": "stdout"
        }
      ]
    },
    {
      "cell_type": "code",
      "metadata": {
        "id": "hQFQ2oCDiR3Q",
        "colab": {
          "base_uri": "https://localhost:8080/",
          "height": 313
        },
        "outputId": "fe104aa4-137c-45a2-8544-36bbcea24eb9"
      },
      "source": [
        "plot_learning_curve(dt.grid.best_estimator_, 'Decision tree learning curves', X_train, Y_train, ylim=[0.6, 1.01],\n",
        "                   train_sizes=[0.05, 0.1, 0.2, 0.3, 0.4, 0.5, 0.6, 0.7, 0.8, 0.9, 1])"
      ],
      "execution_count": null,
      "outputs": [
        {
          "output_type": "execute_result",
          "data": {
            "text/plain": [
              "<module 'matplotlib.pyplot' from '/usr/local/lib/python3.6/dist-packages/matplotlib/pyplot.py'>"
            ]
          },
          "metadata": {
            "tags": []
          },
          "execution_count": 26
        },
        {
          "output_type": "display_data",
          "data": {
            "image/png": "[encoded data removed]",
            "text/plain": [
              "<Figure size 432x288 with 1 Axes>"
            ]
          },
          "metadata": {
            "tags": []
          }
        }
      ]
    },
    {
      "cell_type": "markdown",
      "metadata": {
        "id": "F1m_rOZiibVd"
      },
      "source": [
        "## 5.6) Random forest\n",
        "\n",
        "**Task:** Build a random forest using `Class_Fit`, use grid search to train. Then compute the test precision and plot learning curves."
      ]
    },
    {
      "cell_type": "code",
      "metadata": {
        "id": "CB9z0_s4iWpa",
        "colab": {
          "base_uri": "https://localhost:8080/",
          "height": 52
        },
        "outputId": "e8ac63ba-a2e2-4916-dff0-e43661bc0669"
      },
      "source": [
        "from sklearn import metrics\n",
        "from sklearn.ensemble import RandomForestClassifier\n",
        "\n",
        "rf = Class_Fit(clf=RandomForestClassifier, params=None)\n",
        "rf.grid_search(parameters={'n_estimators':[100, 200],\n",
        "                            'max_leaf_nodes':np.arange(5,20,2)},\n",
        "                Kfold=5)\n",
        "rf.grid_fit(X_train, Y_train)\n",
        "\n",
        "rf.grid.best_params_, rf.grid_predict(X_test, Y_test)"
      ],
      "execution_count": null,
      "outputs": [
        {
          "output_type": "stream",
          "text": [
            "Precision: 89.15 % \n"
          ],
          "name": "stdout"
        },
        {
          "output_type": "execute_result",
          "data": {
            "text/plain": [
              "({'max_leaf_nodes': 17, 'n_estimators': 200}, None)"
            ]
          },
          "metadata": {
            "tags": []
          },
          "execution_count": 27
        }
      ]
    },
    {
      "cell_type": "code",
      "metadata": {
        "id": "6CzVxcqVigow",
        "colab": {
          "base_uri": "https://localhost:8080/",
          "height": 313
        },
        "outputId": "6574e3dd-2c52-4641-854a-dcedf9a048d8"
      },
      "source": [
        "plot_learning_curve(rf.grid.best_estimator_, 'Random forest learning curves', X_train, Y_train, ylim=[0.6, 1.01],\n",
        "                   train_sizes=[0.05, 0.1, 0.2, 0.3, 0.4, 0.5, 0.6, 0.7, 0.8, 0.9, 1])"
      ],
      "execution_count": null,
      "outputs": [
        {
          "output_type": "execute_result",
          "data": {
            "text/plain": [
              "<module 'matplotlib.pyplot' from '/usr/local/lib/python3.6/dist-packages/matplotlib/pyplot.py'>"
            ]
          },
          "metadata": {
            "tags": []
          },
          "execution_count": 28
        },
        {
          "output_type": "display_data",
          "data": {
            "image/png": "[encoded data removed]",
            "text/plain": [
              "<Figure size 432x288 with 1 Axes>"
            ]
          },
          "metadata": {
            "tags": []
          }
        }
      ]
    },
    {
      "cell_type": "markdown",
      "metadata": {
        "id": "dsptM0u3ixv8"
      },
      "source": [
        "## 5.7) Adaboost\n",
        "\n",
        "### Boosting\n",
        "\n",
        "Boosting technique was originally designed for classificaiton. The idea is to have a procedure that combines the outputs of many \"weak\" classifiers to produce a powerful \"committee\".\n",
        "\n",
        "### AdaBoost (Adaptive boosting)\n",
        "\n",
        "Let $X$ be a vector of predictors. The outcome is $Y \\in \\{-1,+1\\}$. The classifier $G(X) \\in \\{-1,+1\\}$\n",
        "\n",
        "The (training) error rate is:\n",
        "$$\\overline{err} = \\frac{1}{N} \\sum_{i=1}^N I(y_i \\neq G(x_i))$$\n",
        "\n",
        "A weak classifier has its error rate slightly better than random guessing.\n",
        "\n",
        "The purpose is to sequentially apply the weak classifier algorithm to repeatedly modified versions of thedata, thereby producing a sequence of weak classifiers $G_m(x), m=1,.. ,N$.\n",
        "\n",
        "The final prediction is a weighted vote:\n",
        "$$G(x) = sign(\\sum_{m=1}^M \\alpha_m G_m(x))$$\n",
        "$\\alpha_1,..,\\alpha_m$ are computed by the boosting algorithm. They give more influence to the more accurate classifers.\n",
        "\n",
        "Data modifications at each boosting step consists of applyting weights $w_1,..,w_N$ to each training observations $(x_i,y_i),i=1,..,N$. All weights are initially set to $\\frac{1}{N}$. For each step, the weights of misclassified observations increase, so that new classifiers pay attention to guess them correctly.\n",
        "\n",
        "---\n",
        "\n",
        "Alorithm AdaBoost.M1 (discrete AdaBoost)\n",
        "\n",
        "---\n",
        "1. Init: $w_i=\\frac{1}{N}, i=1,..,N$\n",
        "2. For m=1,..,M:\n",
        "  \n",
        "  a. Fit a classifier $G_m(x)$ to the training data using weights $w_i$\n",
        "  \n",
        "  b. Compute \n",
        "  $$\\overline{err} = \\frac{\\sum_{i=1}^N w_i I(y_i \\neq G(x_i))}{\\sum_{i=1}^N w_i}$$\n",
        "  \n",
        "  c. Compute\n",
        "  $$\\alpha_m = log(\\frac{1-\\overline{err}}{\\overline{err}})$$\n",
        "  \n",
        "  d. Update $w_i = w_i \\exp(\\alpha_m I(y_i \\neq G(x_i))), i=1,..,N$\n",
        "  \n",
        "3. Output $G(x) = sign(\\sum_{m=1}^M \\alpha_m G_m(x))$\n",
        "  \n",
        "---\n",
        "\n",
        "We often use a tree as weak learner, for example a stump.\n",
        "\n",
        "Five years later, it was discovered that AdaBoost can be seen as Forward Stagewise Additive Modeling with exponential loss $L(y, f(x))=\\exp(-yf(x))$\n"
      ]
    },
    {
      "cell_type": "markdown",
      "metadata": {
        "id": "SnTWu3Dii5Oa"
      },
      "source": [
        "___\n",
        "Forwad Stgewise Additive Modeling\n",
        "___\n",
        "1. Init: $f_0(x) = 0$\n",
        "2. For $m=1,..,M$:\n",
        "  \n",
        "  a. Compute: \n",
        "  $$(\\beta_m, \\gamma_m) = \\arg\\min_{\\beta, \\gamma} \\sum_{i=1}^N L(y_i, f_{m-1}(x_i) + \\beta b(x_i; \\gamma))$$\n",
        "  \n",
        "  b. Update $$f_m(x) = f_{m-1}(x) + \\beta_m b(x_i; \\gamma_m))$$\n",
        "___\n",
        "\n",
        "Here, $b(x; \\gamma)$ is a function with parameter set $\\gamma$; $\\beta_m$ is the expansion coefficient at step m. "
      ]
    },
    {
      "cell_type": "markdown",
      "metadata": {
        "id": "1oP4rilUi-Cd"
      },
      "source": [
        "**Task:** Build an AdaBoost model using `Class_Fit`, use grid search to train. Then compute the test precision and plot learning curves."
      ]
    },
    {
      "cell_type": "code",
      "metadata": {
        "id": "8D_JlVVFiqxv",
        "colab": {
          "base_uri": "https://localhost:8080/",
          "height": 191
        },
        "outputId": "6b29be2a-4568-4003-e94f-f3d3b898c597"
      },
      "source": [
        "from sklearn.ensemble import AdaBoostClassifier\n",
        "\n",
        "ada = Class_Fit(clf=AdaBoostClassifier, params=None)\n",
        "\n",
        "para_grid = {'base_estimator':[DecisionTreeClassifier(max_depth=1),\n",
        "                               DecisionTreeClassifier(max_depth=5),\n",
        "                               DecisionTreeClassifier(max_depth=7),\n",
        "                               DecisionTreeClassifier(max_depth=9)\n",
        "                              ],\n",
        "             'algorithm':['SAMME','SAMME.R'],\n",
        "             'n_estimators':[200] \n",
        "            }\n",
        "ada.grid_search(parameters=para_grid, Kfold=5)\n",
        "\n",
        "ada.grid_fit(X_train, Y_train)\n",
        "\n",
        "ada.grid.best_params_, ada.grid_predict(X_test, Y_test)"
      ],
      "execution_count": null,
      "outputs": [
        {
          "output_type": "stream",
          "text": [
            "Precision: 91.80 % \n"
          ],
          "name": "stdout"
        },
        {
          "output_type": "execute_result",
          "data": {
            "text/plain": [
              "({'algorithm': 'SAMME',\n",
              "  'base_estimator': DecisionTreeClassifier(ccp_alpha=0.0, class_weight=None, criterion='gini',\n",
              "                         max_depth=9, max_features=None, max_leaf_nodes=None,\n",
              "                         min_impurity_decrease=0.0, min_impurity_split=None,\n",
              "                         min_samples_leaf=1, min_samples_split=2,\n",
              "                         min_weight_fraction_leaf=0.0, presort='deprecated',\n",
              "                         random_state=None, splitter='best'),\n",
              "  'n_estimators': 200},\n",
              " None)"
            ]
          },
          "metadata": {
            "tags": []
          },
          "execution_count": 29
        }
      ]
    },
    {
      "cell_type": "code",
      "metadata": {
        "id": "I7IS1xJbjAcC",
        "colab": {
          "base_uri": "https://localhost:8080/",
          "height": 313
        },
        "outputId": "6302cd70-900d-423c-a11d-7966dfb5ffa8"
      },
      "source": [
        "plot_learning_curve(ada.grid.best_estimator_, 'Adaboost learning curves', X_train, Y_train, ylim=[0.6, 1.01],\n",
        "                   train_sizes=[0.05, 0.1, 0.2, 0.3, 0.4, 0.5, 0.6, 0.7, 0.8, 0.9, 1])"
      ],
      "execution_count": null,
      "outputs": [
        {
          "output_type": "execute_result",
          "data": {
            "text/plain": [
              "<module 'matplotlib.pyplot' from '/usr/local/lib/python3.6/dist-packages/matplotlib/pyplot.py'>"
            ]
          },
          "metadata": {
            "tags": []
          },
          "execution_count": 30
        },
        {
          "output_type": "display_data",
          "data": {
            "image/png": "[encoded data removed]",
            "text/plain": [
              "<Figure size 432x288 with 1 Axes>"
            ]
          },
          "metadata": {
            "tags": []
          }
        }
      ]
    },
    {
      "cell_type": "markdown",
      "metadata": {
        "id": "sRyLAky5jyBp"
      },
      "source": [
        "## 5.8) Gradient boosting classifier\n",
        "\n",
        "In gradient boosting we use a differentiable loss function $L(y, f(x))$, not exponential loss like AdaBoost. We might say that Gradient boosting is more general.\n",
        "\n",
        "For each step, to find the new base learner, Gradient Boosting uses functional gradient descent. \n",
        "\n",
        "A functional is a function of functions. It maps a function to a real number, e.g. maps a hypothesis function to the loss.\n",
        "\n",
        "$$R[f]=\\sum_{n=1}^N L(y_i, f(x_i))$$\n",
        "\n",
        "Other examples:\n",
        "\n",
        "$$R[f]=f(x)$$\n",
        "$$R[f]=||f||$$\n",
        "$$R[f]=||f||^2$$\n",
        "\n",
        "\n",
        "The idea is that the functional gradient is a function, which corresponds to the stepest descent direct of the functional at the current function (similar to gradient). It's defined as follows:\n",
        "\n",
        "$$R[f + \\epsilon g] = R[f] + \\epsilon <\\nabla R[f], g> + O(\\epsilon^2) \\\\\n",
        "\\lim_{\\epsilon \\rightarrow 0} \\frac{R[f + \\epsilon g] - R[f]}{\\epsilon} = <\\nabla R[f], g>$$\n",
        "\n",
        "where $\\nabla R[f]$ is the functional gradient at $f$.\n",
        "\n",
        "Chain rule for functional gradients:\n",
        "\n",
        "$$\\nabla C(R[f]) = C' (R[f]) \\nabla R[f]$$\n",
        "where C is a function.\n",
        "\n",
        "Examples:\n",
        "\n",
        "$$\\nabla (||f||^2)=2f$$\n",
        "$$\\nabla ((||f||^2)^3)=3||f||^4 2f = 6||f||^4 f$$\n",
        "\n",
        "Note: the definition of functional gradient above depends on the choice of the inner product.\n",
        "\n",
        "With N observations, we use a approximate inner product:\n",
        "$$<f,g> = \\frac{1}{N} \\sum_{n=1}^N f(x_n) g(x_n)$$\n",
        "\n",
        "When we have the functional gradient, we apply its opposite on $\\{x_i\\}$ to obtain pseudo-residuals:\n",
        "\n",
        "$$r_{im}=-[ \\frac{\\partial L (y_i, f(x_i)) }{\\partial f(x_i)}]_{f=f_{m-1}}$$\n",
        "\n",
        "Examples of gradient descent (residuals):\n",
        "1. $$L(y_i, f(x_i)) = \\frac{1}{2} (y_i- f(x_i))^2\\\\\n",
        "-\\frac{\\partial L (y_i, f(x_i)) }{\\partial f(x_i)}=y_i - f(x_i)$$\n",
        "\n",
        "2. $$L(y_i, f(x_i)) =  |y_i- f(x_i)|\\\\\n",
        "-\\frac{\\partial L (y_i, f(x_i)) }{\\partial f(x_i)}=sign(y_i - f(x_i))$$\n",
        "\n",
        "---\n",
        "\n",
        "Gradient Tree Boosting Algorithm (regresion, classification is similar)\n",
        "\n",
        "---\n",
        "1. Init: $f_0(x) = \\arg\\min_{\\gamma} \\sum_{i=1}^N L(y_i, \\gamma)$\n",
        "2. For $m=1,..,M$:\n",
        "  \n",
        "  a. For $i=1,..,N$, compute the pseudo-residuals:\n",
        "  $$r_{im}=-[ \\frac{\\partial L (y_i, f(x_i)) }{\\partial f(x_i)}]_{f=f_{m-1}}$$\n",
        "  \n",
        "  b. Fit a regression tree to the targets $r_{im}$ (i.e. data $\\{x_i, r_{im}\\}_{i=1}^N$) giving terminal regions $R_{jm}, j= 1,2,...,J_m$.\n",
        "  \n",
        "  c. For $j= 1,2,...,J_m$ compute:\n",
        "  $$\\gamma_{jm} = \\arg\\min_{\\gamma} \\sum_{x_i \\in R_{jm}}^N L(y_i, f(x_i) + \\gamma)$$\n",
        "  \n",
        "  d. Update $$f_m(x) = f_{m-1}(x) + \\sum_{j=1}^{J_m} \\gamma_{jm} I(x \\in R_{jm})$$\n",
        "  \n",
        "3. Output $f_M(x)$\n",
        "  \n",
        "---\n"
      ]
    },
    {
      "cell_type": "markdown",
      "metadata": {
        "id": "TvE4EGDQkFJG"
      },
      "source": [
        "**Task:** Build a gradient boosting model using `Class_Fit`, use grid search to train. Then compute the test precision and plot learning curves."
      ]
    },
    {
      "cell_type": "code",
      "metadata": {
        "id": "O1iqlZU4js-X",
        "colab": {
          "base_uri": "https://localhost:8080/",
          "height": 52
        },
        "outputId": "13132158-53c0-482b-f037-9c117f48ee23"
      },
      "source": [
        "from sklearn.ensemble import GradientBoostingClassifier \n",
        "gb = Class_Fit(clf=GradientBoostingClassifier, params=None)\n",
        "\n",
        "para_grid = {\n",
        "    'n_estimators':[100, 200, 300]\n",
        "            }\n",
        "gb.grid_search(parameters=para_grid, Kfold=5)\n",
        "\n",
        "gb.grid_fit(X_train, Y_train)\n",
        "\n",
        "gb.grid.best_params_, ada.grid_predict(X_test, Y_test)\n"
      ],
      "execution_count": null,
      "outputs": [
        {
          "output_type": "stream",
          "text": [
            "Precision: 91.80 % \n"
          ],
          "name": "stdout"
        },
        {
          "output_type": "execute_result",
          "data": {
            "text/plain": [
              "({'n_estimators': 100}, None)"
            ]
          },
          "metadata": {
            "tags": []
          },
          "execution_count": 31
        }
      ]
    },
    {
      "cell_type": "code",
      "metadata": {
        "id": "iaasUcy0kHoK",
        "colab": {
          "base_uri": "https://localhost:8080/",
          "height": 313
        },
        "outputId": "f863f32b-3e5f-4a7e-c007-f4cce4b36e74"
      },
      "source": [
        "plot_learning_curve(gb.grid.best_estimator_, 'Gradient boosting learning curves', X_train, Y_train, ylim=[0.6, 1.01],\n",
        "                   train_sizes=[0.05, 0.1, 0.2, 0.3, 0.4, 0.5, 0.6, 0.7, 0.8, 0.9, 1])"
      ],
      "execution_count": null,
      "outputs": [
        {
          "output_type": "execute_result",
          "data": {
            "text/plain": [
              "<module 'matplotlib.pyplot' from '/usr/local/lib/python3.6/dist-packages/matplotlib/pyplot.py'>"
            ]
          },
          "metadata": {
            "tags": []
          },
          "execution_count": 32
        },
        {
          "output_type": "display_data",
          "data": {
            "image/png": "[encoded data removed]",
            "text/plain": [
              "<Figure size 432x288 with 1 Axes>"
            ]
          },
          "metadata": {
            "tags": []
          }
        }
      ]
    },
    {
      "cell_type": "markdown",
      "metadata": {
        "id": "bLtqUWg7kMng"
      },
      "source": [
        "## 5.9) XGBoost \n",
        "\n",
        "XGBoost is an optimized distributed gradient boosting library designed to be highly efficient, flexible and portable.\n",
        "\n",
        "https://xgboost.readthedocs.io/en/latest/"
      ]
    },
    {
      "cell_type": "code",
      "metadata": {
        "id": "PSVpSwmukLsG",
        "colab": {
          "base_uri": "https://localhost:8080/",
          "height": 52
        },
        "outputId": "ef82a04d-faf1-44df-b007-5324c36ee0e3"
      },
      "source": [
        "from xgboost import XGBClassifier\n",
        "xgb = Class_Fit(clf=XGBClassifier, params=None)\n",
        "\n",
        "para_grid = {\n",
        "    'objective':['multi:softmax'],\n",
        "    'n_estimators':[100, 200, 300]\n",
        "            }\n",
        "xgb.grid_search(parameters=para_grid, Kfold=5)\n",
        "\n",
        "xgb.grid_fit(X_train, Y_train)\n",
        "\n",
        "xgb.grid.best_params_, xgb.grid_predict(X_test, Y_test)"
      ],
      "execution_count": null,
      "outputs": [
        {
          "output_type": "stream",
          "text": [
            "Precision: 91.80 % \n"
          ],
          "name": "stdout"
        },
        {
          "output_type": "execute_result",
          "data": {
            "text/plain": [
              "({'n_estimators': 100, 'objective': 'multi:softmax'}, None)"
            ]
          },
          "metadata": {
            "tags": []
          },
          "execution_count": 33
        }
      ]
    },
    {
      "cell_type": "code",
      "metadata": {
        "id": "Zw4MN2_akVXN",
        "colab": {
          "base_uri": "https://localhost:8080/",
          "height": 313
        },
        "outputId": "272e2a17-531e-46e3-c95f-1b24175a96a4"
      },
      "source": [
        "plot_learning_curve(xgb.grid.best_estimator_, 'Gradient boosting learning curves', X_train, Y_train, ylim=[0.6, 1.01],\n",
        "                   train_sizes=[0.05, 0.1, 0.2, 0.3, 0.4, 0.5, 0.6, 0.7, 0.8, 0.9, 1])"
      ],
      "execution_count": null,
      "outputs": [
        {
          "output_type": "execute_result",
          "data": {
            "text/plain": [
              "<module 'matplotlib.pyplot' from '/usr/local/lib/python3.6/dist-packages/matplotlib/pyplot.py'>"
            ]
          },
          "metadata": {
            "tags": []
          },
          "execution_count": 34
        },
        {
          "output_type": "display_data",
          "data": {
            "image/png": "[encoded data removed]",
            "text/plain": [
              "<Figure size 432x288 with 1 Axes>"
            ]
          },
          "metadata": {
            "tags": []
          }
        }
      ]
    },
    {
      "cell_type": "markdown",
      "metadata": {
        "id": "efkFjBgNkoO8"
      },
      "source": [
        "# 5.10) Testing predictions\n",
        "\n",
        "**Task:** For each trained model above, compute the precision on the test set."
      ]
    },
    {
      "cell_type": "markdown",
      "metadata": {
        "id": "1K32Y5wirrfY"
      },
      "source": [
        "**Task:** For each trained model above, compute the precision on the test set."
      ]
    },
    {
      "cell_type": "code",
      "metadata": {
        "id": "PPVWtZ-BqB0_",
        "colab": {
          "base_uri": "https://localhost:8080/",
          "height": 381
        },
        "outputId": "2151ca40-0b5f-40bc-d9ca-431c6c98d68d"
      },
      "source": [
        "classifiers = [(svc, 'Support Vector Machine'),\n",
        "                (lr, 'Logistic Regression'),\n",
        "                (knn, 'k-Nearest Neighbors'),\n",
        "                (dt, 'Decision Tree'),\n",
        "                (rf, 'Random Forest'),\n",
        "                (gb, 'Gradient Boosting'),\n",
        "                (xgb, 'XGBoost')]\n",
        "#______________________________\n",
        "for clf, label in classifiers:\n",
        "    print(30*'_', '\\n{}'.format(label))\n",
        "    clf.grid_predict(X_test, Y_test)"
      ],
      "execution_count": null,
      "outputs": [
        {
          "output_type": "stream",
          "text": [
            "______________________________ \n",
            "Support Vector Machine\n",
            "Precision: 58.89 % \n",
            "______________________________ \n",
            "Logistic Regression\n",
            "Precision: 91.34 % \n",
            "______________________________ \n",
            "k-Nearest Neighbors\n",
            "Precision: 82.56 % \n",
            "______________________________ \n",
            "Decision Tree\n",
            "Precision: 89.49 % \n",
            "______________________________ \n",
            "Random Forest\n",
            "Precision: 89.15 % \n",
            "______________________________ \n",
            "Gradient Boosting\n",
            "Precision: 90.88 % \n",
            "______________________________ \n",
            "XGBoost\n",
            "Precision: 91.57 % \n"
          ],
          "name": "stdout"
        }
      ]
    }
  ]
}